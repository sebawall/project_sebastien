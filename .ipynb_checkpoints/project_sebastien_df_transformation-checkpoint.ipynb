{
 "cells": [
  {
   "cell_type": "code",
   "execution_count": 1,
   "metadata": {
    "id": "sLIO43l25_Sk"
   },
   "outputs": [],
   "source": [
    "import numpy as np\n",
    "import pandas as pd\n",
    "import matplotlib.pyplot as plt\n",
    "import seaborn as sns\n",
    "import sklearn"
   ]
  },
  {
   "cell_type": "markdown",
   "metadata": {
    "colab": {
     "base_uri": "https://localhost:8080/"
    },
    "id": "mveHfand6bpj",
    "outputId": "73f13879-28af-4aae-dc15-2cfd15c84e9e"
   },
   "source": [
    "#if open via google collab\n",
    "from google.colab import drive \n",
    "drive.mount('/content/gdrive')\n",
    "customer_profiles_table=pd.read_csv(\"/content/gdrive/MyDrive/Colab Notebooks/project_sebastien/data/customer_profiles_table.csv\")\n",
    "transactions_df=pd.read_csv(\"/content/gdrive/MyDrive/Colab Notebooks/project_sebastien/data/transactions_df.csv\")\n",
    "terminal_profiles_table=pd.read_csv(\"/content/gdrive/MyDrive/Colab Notebooks/project_sebastien/data/terminal_profiles_table.csv\")"
   ]
  },
  {
   "cell_type": "markdown",
   "metadata": {},
   "source": [
    "1 - adapter la colonne datetime, créer des colonnes last tx et dernier jours \\\n",
    "2 - faire tourner random forest\\\n",
    "3 - créer le moteur\\\n",
    "4 -   \\"
   ]
  },
  {
   "cell_type": "code",
   "execution_count": 2,
   "metadata": {},
   "outputs": [],
   "source": [
    "customer_profiles_df=pd.read_csv(\"./data/customer_profiles_table.csv\")\n",
    "transactions_df=pd.read_csv(\"./data/transactions_df.csv\")\n",
    "terminal_profiles_df=pd.read_csv(\"./data/terminal_profiles_table.csv\")"
   ]
  },
  {
   "cell_type": "code",
   "execution_count": 3,
   "metadata": {
    "colab": {
     "base_uri": "https://localhost:8080/",
     "height": 1000
    },
    "id": "PjQmXS1A6-mE",
    "outputId": "1ffbf384-05d7-4943-a13d-5f294b9dc302",
    "scrolled": true
   },
   "outputs": [
    {
     "data": {
      "text/html": [
       "<div>\n",
       "<style scoped>\n",
       "    .dataframe tbody tr th:only-of-type {\n",
       "        vertical-align: middle;\n",
       "    }\n",
       "\n",
       "    .dataframe tbody tr th {\n",
       "        vertical-align: top;\n",
       "    }\n",
       "\n",
       "    .dataframe thead th {\n",
       "        text-align: right;\n",
       "    }\n",
       "</style>\n",
       "<table border=\"1\" class=\"dataframe\">\n",
       "  <thead>\n",
       "    <tr style=\"text-align: right;\">\n",
       "      <th></th>\n",
       "      <th>Unnamed: 0</th>\n",
       "      <th>TRANSACTION_ID</th>\n",
       "      <th>TX_DATETIME</th>\n",
       "      <th>CUSTOMER_ID</th>\n",
       "      <th>TERMINAL_ID</th>\n",
       "      <th>TX_AMOUNT</th>\n",
       "      <th>TX_TIME_SECONDS</th>\n",
       "      <th>TX_TIME_DAYS</th>\n",
       "      <th>TX_FRAUD</th>\n",
       "      <th>TX_FRAUD_SCENARIO</th>\n",
       "    </tr>\n",
       "  </thead>\n",
       "  <tbody>\n",
       "    <tr>\n",
       "      <th>0</th>\n",
       "      <td>0</td>\n",
       "      <td>0</td>\n",
       "      <td>2018-04-01 00:00:31</td>\n",
       "      <td>596</td>\n",
       "      <td>3156</td>\n",
       "      <td>57.16</td>\n",
       "      <td>31</td>\n",
       "      <td>0</td>\n",
       "      <td>0</td>\n",
       "      <td>0</td>\n",
       "    </tr>\n",
       "    <tr>\n",
       "      <th>1</th>\n",
       "      <td>1</td>\n",
       "      <td>1</td>\n",
       "      <td>2018-04-01 00:02:10</td>\n",
       "      <td>4961</td>\n",
       "      <td>3412</td>\n",
       "      <td>81.51</td>\n",
       "      <td>130</td>\n",
       "      <td>0</td>\n",
       "      <td>0</td>\n",
       "      <td>0</td>\n",
       "    </tr>\n",
       "    <tr>\n",
       "      <th>2</th>\n",
       "      <td>2</td>\n",
       "      <td>2</td>\n",
       "      <td>2018-04-01 00:07:56</td>\n",
       "      <td>2</td>\n",
       "      <td>1365</td>\n",
       "      <td>146.00</td>\n",
       "      <td>476</td>\n",
       "      <td>0</td>\n",
       "      <td>0</td>\n",
       "      <td>0</td>\n",
       "    </tr>\n",
       "    <tr>\n",
       "      <th>3</th>\n",
       "      <td>3</td>\n",
       "      <td>3</td>\n",
       "      <td>2018-04-01 00:09:29</td>\n",
       "      <td>4128</td>\n",
       "      <td>8737</td>\n",
       "      <td>64.49</td>\n",
       "      <td>569</td>\n",
       "      <td>0</td>\n",
       "      <td>0</td>\n",
       "      <td>0</td>\n",
       "    </tr>\n",
       "    <tr>\n",
       "      <th>4</th>\n",
       "      <td>4</td>\n",
       "      <td>4</td>\n",
       "      <td>2018-04-01 00:10:34</td>\n",
       "      <td>927</td>\n",
       "      <td>9906</td>\n",
       "      <td>50.99</td>\n",
       "      <td>634</td>\n",
       "      <td>0</td>\n",
       "      <td>0</td>\n",
       "      <td>0</td>\n",
       "    </tr>\n",
       "  </tbody>\n",
       "</table>\n",
       "</div>"
      ],
      "text/plain": [
       "   Unnamed: 0  TRANSACTION_ID          TX_DATETIME  CUSTOMER_ID  TERMINAL_ID  \\\n",
       "0           0               0  2018-04-01 00:00:31          596         3156   \n",
       "1           1               1  2018-04-01 00:02:10         4961         3412   \n",
       "2           2               2  2018-04-01 00:07:56            2         1365   \n",
       "3           3               3  2018-04-01 00:09:29         4128         8737   \n",
       "4           4               4  2018-04-01 00:10:34          927         9906   \n",
       "\n",
       "   TX_AMOUNT  TX_TIME_SECONDS  TX_TIME_DAYS  TX_FRAUD  TX_FRAUD_SCENARIO  \n",
       "0      57.16               31             0         0                  0  \n",
       "1      81.51              130             0         0                  0  \n",
       "2     146.00              476             0         0                  0  \n",
       "3      64.49              569             0         0                  0  \n",
       "4      50.99              634             0         0                  0  "
      ]
     },
     "execution_count": 3,
     "metadata": {},
     "output_type": "execute_result"
    }
   ],
   "source": [
    "transactions_df.head()"
   ]
  },
  {
   "cell_type": "code",
   "execution_count": 4,
   "metadata": {
    "id": "Y2_qMw0R6_Aq"
   },
   "outputs": [],
   "source": [
    "#convert the column \"TX_DATETIME\" to panda datetime format\n",
    "transactions_df[\"TX_DATETIME\"] = pd.to_datetime(transactions_df[\"TX_DATETIME\"])"
   ]
  },
  {
   "cell_type": "code",
   "execution_count": 5,
   "metadata": {
    "scrolled": true
   },
   "outputs": [
    {
     "data": {
      "text/html": [
       "<div>\n",
       "<style scoped>\n",
       "    .dataframe tbody tr th:only-of-type {\n",
       "        vertical-align: middle;\n",
       "    }\n",
       "\n",
       "    .dataframe tbody tr th {\n",
       "        vertical-align: top;\n",
       "    }\n",
       "\n",
       "    .dataframe thead th {\n",
       "        text-align: right;\n",
       "    }\n",
       "</style>\n",
       "<table border=\"1\" class=\"dataframe\">\n",
       "  <thead>\n",
       "    <tr style=\"text-align: right;\">\n",
       "      <th></th>\n",
       "      <th>Unnamed: 0</th>\n",
       "      <th>TERMINAL_ID</th>\n",
       "      <th>x_terminal_id</th>\n",
       "      <th>y_terminal_id</th>\n",
       "    </tr>\n",
       "  </thead>\n",
       "  <tbody>\n",
       "    <tr>\n",
       "      <th>0</th>\n",
       "      <td>0</td>\n",
       "      <td>0</td>\n",
       "      <td>41.702200</td>\n",
       "      <td>72.032449</td>\n",
       "    </tr>\n",
       "    <tr>\n",
       "      <th>1</th>\n",
       "      <td>1</td>\n",
       "      <td>1</td>\n",
       "      <td>0.011437</td>\n",
       "      <td>30.233257</td>\n",
       "    </tr>\n",
       "    <tr>\n",
       "      <th>2</th>\n",
       "      <td>2</td>\n",
       "      <td>2</td>\n",
       "      <td>14.675589</td>\n",
       "      <td>9.233859</td>\n",
       "    </tr>\n",
       "    <tr>\n",
       "      <th>3</th>\n",
       "      <td>3</td>\n",
       "      <td>3</td>\n",
       "      <td>18.626021</td>\n",
       "      <td>34.556073</td>\n",
       "    </tr>\n",
       "    <tr>\n",
       "      <th>4</th>\n",
       "      <td>4</td>\n",
       "      <td>4</td>\n",
       "      <td>39.676747</td>\n",
       "      <td>53.881673</td>\n",
       "    </tr>\n",
       "  </tbody>\n",
       "</table>\n",
       "</div>"
      ],
      "text/plain": [
       "   Unnamed: 0  TERMINAL_ID  x_terminal_id  y_terminal_id\n",
       "0           0            0      41.702200      72.032449\n",
       "1           1            1       0.011437      30.233257\n",
       "2           2            2      14.675589       9.233859\n",
       "3           3            3      18.626021      34.556073\n",
       "4           4            4      39.676747      53.881673"
      ]
     },
     "execution_count": 5,
     "metadata": {},
     "output_type": "execute_result"
    }
   ],
   "source": [
    "terminal_profiles_df.head()"
   ]
  },
  {
   "cell_type": "markdown",
   "metadata": {},
   "source": [
    "# Faire graphique avec la repartition transaction, fraude"
   ]
  },
  {
   "cell_type": "code",
   "execution_count": null,
   "metadata": {},
   "outputs": [],
   "source": []
  },
  {
   "cell_type": "markdown",
   "metadata": {},
   "source": [
    "# date and time transformation"
   ]
  },
  {
   "cell_type": "code",
   "execution_count": 6,
   "metadata": {},
   "outputs": [],
   "source": [
    "from datetime import datetime"
   ]
  },
  {
   "cell_type": "code",
   "execution_count": 7,
   "metadata": {},
   "outputs": [],
   "source": [
    "#date transaformation\n",
    "# could be optimised\n",
    "def func_date_monday (data1):\n",
    "  \n",
    "    if data1.weekday() == 0:\n",
    "        return 1\n",
    "    else:\n",
    "        return 0\n",
    "    \n",
    "def func_date_tuesday (data1):\n",
    "   \n",
    "    if data1.weekday() == 1:\n",
    "        return 1\n",
    "    else:\n",
    "        return 0\n",
    "\n",
    "def func_date_wednesday (data1):\n",
    "    \n",
    "    if data1.weekday() == 2:\n",
    "        return 1\n",
    "    else:\n",
    "        return 0\n",
    "def func_date_thursday (data1):\n",
    "    \n",
    "    if data1.weekday() == 3:\n",
    "        return 1\n",
    "    else:\n",
    "        return 0\n",
    "def func_date_friday (data1):\n",
    "   \n",
    "    if data1.weekday() == 4:\n",
    "        return 1\n",
    "    else:\n",
    "        return 0\n",
    "def func_date_saturday (data1):\n",
    "    \n",
    "    if data1.weekday() == 5:\n",
    "        return 1\n",
    "    else:\n",
    "        return 0\n",
    "def func_date_sunday (data1):\n",
    "   \n",
    "    if data1.weekday() == 6:\n",
    "        return 1\n",
    "    else:\n",
    "        return 0"
   ]
  },
  {
   "cell_type": "code",
   "execution_count": 8,
   "metadata": {},
   "outputs": [],
   "source": [
    "# could be optimised\n",
    "transactions_df['is_monday']=transactions_df.TX_DATETIME.apply(func_date_monday);\n",
    "transactions_df['is_tuesday']=transactions_df.TX_DATETIME.apply(func_date_tuesday);\n",
    "transactions_df['is_wednesday']=transactions_df.TX_DATETIME.apply(func_date_wednesday);\n",
    "transactions_df['is_thursday']=transactions_df.TX_DATETIME.apply(func_date_thursday);\n",
    "transactions_df['is_friday']=transactions_df.TX_DATETIME.apply(func_date_friday);\n",
    "transactions_df['is_saturday']=transactions_df.TX_DATETIME.apply(func_date_saturday);\n",
    "transactions_df['is_sunday']=transactions_df.TX_DATETIME.apply(func_date_sunday)"
   ]
  },
  {
   "cell_type": "code",
   "execution_count": 9,
   "metadata": {},
   "outputs": [],
   "source": [
    "def timestamp1(data1):\n",
    "\n",
    "    if data1.hour <=6:\n",
    "        return 1\n",
    "    else:\n",
    "        return 0\n",
    "    \n",
    "def timestamp2(data1):\n",
    "   \n",
    "    if data1.hour >6 and data1.hour <= 12:\n",
    "        return 1\n",
    "    else:\n",
    "        return 0\n",
    "def timestamp3(data1):\n",
    "  \n",
    "    if data1.hour >12 and data1.hour <= 18:\n",
    "        return 1\n",
    "    else:\n",
    "        return 0\n",
    "def timestamp4(data1):\n",
    "  \n",
    "    if data1.hour >18:\n",
    "        return 1\n",
    "    else:\n",
    "        return 0"
   ]
  },
  {
   "cell_type": "code",
   "execution_count": 10,
   "metadata": {},
   "outputs": [],
   "source": [
    "transactions_df['hour_1_4']=transactions_df.TX_DATETIME.apply(timestamp1)\n",
    "transactions_df['hour_2_4']=transactions_df.TX_DATETIME.apply(timestamp2)\n",
    "transactions_df['hour_3_4']=transactions_df.TX_DATETIME.apply(timestamp3)\n",
    "transactions_df['hour_4_4']=transactions_df.TX_DATETIME.apply(timestamp4)"
   ]
  },
  {
   "cell_type": "code",
   "execution_count": 11,
   "metadata": {},
   "outputs": [],
   "source": [
    "def tran_hist (temp_tran_id, window_days):\n",
    "#sort transaction id by date time and reindex the df\n",
    "    \n",
    "    transaction_id_temp_df = temp_tran_id.sort_values(\"TX_DATETIME\")\n",
    "    transaction_id_temp_df.index = transaction_id_temp_df[\"TX_DATETIME\"]\n",
    "\n",
    "#for loop that will sum number of transaction and average amount on defined period for \n",
    "    for period in window_days:\n",
    "        sum_tran_period = transaction_id_temp_df['TX_AMOUNT'].rolling(str(period) + \"d\").sum()\n",
    "        count_tran_period =transaction_id_temp_df['TX_AMOUNT'].rolling(str(period)+'d').count()\n",
    "        average_tran_period = sum_tran_period/count_tran_period\n",
    "        \n",
    "        transaction_id_temp_df['average_tx_last'+ str(period) + \"days\"] = average_tran_period\n",
    "        transaction_id_temp_df['tx_count_over_last'+ str(period) + \"days\"] = count_tran_period\n",
    "\n",
    "\n",
    "    return transaction_id_temp_df"
   ]
  },
  {
   "cell_type": "code",
   "execution_count": 12,
   "metadata": {},
   "outputs": [],
   "source": [
    "temp_bis_df=transactions_df.groupby(\"CUSTOMER_ID\").apply(lambda x: tran_hist(x, window_days=[1,7,30]))\n",
    "temp_bis_df=temp_bis_df.sort_values(\"Unnamed: 0\").reset_index(drop=True)\n",
    "transactions_df = temp_bis_df"
   ]
  },
  {
   "cell_type": "code",
   "execution_count": null,
   "metadata": {},
   "outputs": [],
   "source": []
  },
  {
   "cell_type": "code",
   "execution_count": null,
   "metadata": {},
   "outputs": [],
   "source": []
  },
  {
   "cell_type": "code",
   "execution_count": null,
   "metadata": {},
   "outputs": [],
   "source": []
  },
  {
   "cell_type": "code",
   "execution_count": 15,
   "metadata": {},
   "outputs": [],
   "source": [
    "#drop the irrelevant columns\n",
    "transactions_df.drop(\"Unnamed: 0\", axis=1, inplace = True)"
   ]
  },
  {
   "cell_type": "code",
   "execution_count": 16,
   "metadata": {},
   "outputs": [],
   "source": [
    "transactions_df.to_csv(\"./data/transactions_df2.csv\", index = False)\n",
    "terminal_profiles_df.to_csv(\"./data/terminal_profiles_table2.csv\", index = False)\n",
    "customer_profiles_df.to_csv(\"./data/customer_profiles_table2.csv\", index = False)"
   ]
  },
  {
   "cell_type": "code",
   "execution_count": null,
   "metadata": {},
   "outputs": [],
   "source": []
  }
 ],
 "metadata": {
  "colab": {
   "authorship_tag": "ABX9TyMajR4d3UNrX4nqqjC3cjP8",
   "collapsed_sections": [],
   "name": "project_sebastien",
   "provenance": []
  },
  "kernelspec": {
   "display_name": "Python 3",
   "language": "python",
   "name": "python3"
  },
  "language_info": {
   "codemirror_mode": {
    "name": "ipython",
    "version": 3
   },
   "file_extension": ".py",
   "mimetype": "text/x-python",
   "name": "python",
   "nbconvert_exporter": "python",
   "pygments_lexer": "ipython3",
   "version": "3.8.8"
  }
 },
 "nbformat": 4,
 "nbformat_minor": 1
}
