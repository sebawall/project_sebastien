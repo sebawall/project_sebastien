{
 "cells": [
  {
   "cell_type": "code",
   "execution_count": 1,
   "metadata": {
    "id": "sLIO43l25_Sk"
   },
   "outputs": [],
   "source": [
    "import numpy as np\n",
    "import pandas as pd\n",
    "import matplotlib.pyplot as plt\n",
    "import seaborn as sns\n",
    "import sklearn"
   ]
  },
  {
   "cell_type": "markdown",
   "metadata": {
    "colab": {
     "base_uri": "https://localhost:8080/"
    },
    "id": "mveHfand6bpj",
    "outputId": "73f13879-28af-4aae-dc15-2cfd15c84e9e"
   },
   "source": [
    "#if open via google collab\n",
    "from google.colab import drive \n",
    "drive.mount('/content/gdrive')\n",
    "customer_profiles_table=pd.read_csv(\"/content/gdrive/MyDrive/Colab Notebooks/project_sebastien/data/customer_profiles_table.csv\")\n",
    "transactions_df=pd.read_csv(\"/content/gdrive/MyDrive/Colab Notebooks/project_sebastien/data/transactions_df.csv\")\n",
    "terminal_profiles_table=pd.read_csv(\"/content/gdrive/MyDrive/Colab Notebooks/project_sebastien/data/terminal_profiles_table.csv\")"
   ]
  },
  {
   "cell_type": "markdown",
   "metadata": {},
   "source": [
    "1 - adapter la colonne datetime, créer des colonnes last tx et dernier jours \\\n",
    "2 - faire tourner random forest\\\n",
    "3 - créer le moteur\\\n",
    "4 -   \\"
   ]
  },
  {
   "cell_type": "code",
   "execution_count": 2,
   "metadata": {},
   "outputs": [],
   "source": [
    "customer_profiles_df=pd.read_csv(\"./data/customer_profiles_table2.csv\")\n",
    "transactions_df=pd.read_csv(\"./data/transactions_df2.csv\")\n",
    "terminal_profiles_df=pd.read_csv(\"./data/terminal_profiles_table2.csv\")"
   ]
  },
  {
   "cell_type": "code",
   "execution_count": null,
   "metadata": {},
   "outputs": [],
   "source": []
  },
  {
   "cell_type": "code",
   "execution_count": null,
   "metadata": {},
   "outputs": [],
   "source": []
  },
  {
   "cell_type": "code",
   "execution_count": null,
   "metadata": {},
   "outputs": [],
   "source": [
    "yTrain = temp_first.iloc[:,-1]\n",
    "XTrain = temp_first.iloc[:,:-1]"
   ]
  },
  {
   "cell_type": "code",
   "execution_count": null,
   "metadata": {},
   "outputs": [],
   "source": []
  },
  {
   "cell_type": "code",
   "execution_count": null,
   "metadata": {},
   "outputs": [],
   "source": [
    "lrSk.fit(XTrain,yTrain)"
   ]
  },
  {
   "cell_type": "code",
   "execution_count": null,
   "metadata": {},
   "outputs": [],
   "source": [
    "print(pd.DataFrame({\"var\":XTrain.columns,\"coef\":lrSk.coef_[0]}))"
   ]
  },
  {
   "cell_type": "code",
   "execution_count": null,
   "metadata": {},
   "outputs": [],
   "source": [
    "print(lrSk.intercept_)"
   ]
  },
  {
   "cell_type": "code",
   "execution_count": null,
   "metadata": {},
   "outputs": [],
   "source": []
  },
  {
   "cell_type": "code",
   "execution_count": null,
   "metadata": {},
   "outputs": [],
   "source": [
    "def risk_score_tx (tx_id, coef):\n",
    "    #create variable\n",
    "    cust_id_temp = transactions_df.loc[transactions_df[\"TRANSACTION_ID\"] == tx_id, \"CUSTOMER_ID\"].iloc[0]\n",
    "    tx_prof_temp = transactions_df.loc[transactions_df[\"TRANSACTION_ID\"] == tx_id]\n",
    "    cust_prof_temp = customer_profiles_df[customer_profiles_df[\"CUSTOMER_ID\"] == int(cust_id_temp)]\n",
    "    \n",
    "    #\n",
    "    mean_tx_score = cust_prof_temp[\"mean_amount\"].iloc[0] / tx_prof_temp[\"TX_AMOUNT\"].iloc[0]\n",
    "    \n",
    "    #important \n",
    "    coef_mean_ind_tx = coef\n",
    "    \n",
    "    #not completed\n",
    "    risk_tx_result = mean_tx_score * coef_mean_ind_tx\n",
    "    \n",
    "    #final df\n",
    "    \n",
    "    final = {\"TRANSACTION_ID\" : [tx_id],\n",
    "             \"CUSTOMER_ID\" : [cust_id_temp],\n",
    "             \"TX_DATETIME\" : [tx_prof_temp[\"TX_DATETIME\"].iloc[0]],\n",
    "             \"mean_tx_score\" : [risk_tx_result],\n",
    "             \"result\" : [risk_tx_result]\n",
    "            }\n",
    "    risk_score_df = pd.DataFrame(final)\n",
    "    \n",
    "    return risk_score_df "
   ]
  },
  {
   "cell_type": "code",
   "execution_count": null,
   "metadata": {},
   "outputs": [],
   "source": [
    "risk_score_tx(1, 50)"
   ]
  },
  {
   "cell_type": "code",
   "execution_count": null,
   "metadata": {},
   "outputs": [],
   "source": [
    "risk_score_tx(1, 50)"
   ]
  },
  {
   "cell_type": "code",
   "execution_count": null,
   "metadata": {},
   "outputs": [],
   "source": []
  }
 ],
 "metadata": {
  "colab": {
   "authorship_tag": "ABX9TyMajR4d3UNrX4nqqjC3cjP8",
   "collapsed_sections": [],
   "name": "project_sebastien",
   "provenance": []
  },
  "kernelspec": {
   "display_name": "Python 3",
   "language": "python",
   "name": "python3"
  },
  "language_info": {
   "codemirror_mode": {
    "name": "ipython",
    "version": 3
   },
   "file_extension": ".py",
   "mimetype": "text/x-python",
   "name": "python",
   "nbconvert_exporter": "python",
   "pygments_lexer": "ipython3",
   "version": "3.8.8"
  }
 },
 "nbformat": 4,
 "nbformat_minor": 1
}
