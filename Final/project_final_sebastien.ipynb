{
 "cells": [
  {
   "cell_type": "code",
   "execution_count": null,
   "id": "270ce005",
   "metadata": {},
   "outputs": [],
   "source": [
    "import numpy as np\n",
    "import pandas as pd\n",
    "import matplotlib.pyplot as plt\n",
    "import seaborn as sns\n",
    "import sklearn\n",
    "import matplotlib.style as mplstyle\n",
    "import datetime\n"
   ]
  },
  {
   "cell_type": "markdown",
   "id": "6e6b78fe",
   "metadata": {},
   "source": [
    "#for list of style plt.style.available (https://matplotlib.org/stable/gallery/style_sheets/style_sheets_reference.html)\n",
    "#mplstyle.use('bmh')"
   ]
  },
  {
   "cell_type": "code",
   "execution_count": null,
   "id": "ac539375",
   "metadata": {},
   "outputs": [],
   "source": [
    "customer_profiles_df=pd.read_csv(\"./data/customer_profiles_table.csv\")\n",
    "transactions_df=pd.read_csv(\"./data/transactions_df.csv\", parse_dates=[\"TX_DATETIME\"])\n",
    "terminal_profiles_df=pd.read_csv(\"./data/terminal_profiles_table.csv\")"
   ]
  },
  {
   "cell_type": "markdown",
   "id": "a6d18d8f",
   "metadata": {},
   "source": [
    "# Exploratory data analysis\n",
    "\n",
    "This project will use a data set generator created by [Yann-Aël Le Borgne & Gianluca Bontempi](https://fraud-detection-handbook.github.io/fraud-detection-handbook/Chapter_3_GettingStarted/SimulatedDataset.html). The generator will create three dataset that reproduce the logs of a fictional card company, including fraudulent transactions. \n",
    "\n",
    "The logs are split in three dataset, column name in lower case are directly linked to the main dataset **transactions_df**:\n",
    "\n",
    "1 - Customer profile\n",
    "\n",
    "| Column | Type | Description |\n",
    "| --- | --- | --- |\n",
    "| CUSTOMER_ID | int64 | The customer unique ID|\n",
    "|(x_customer_id,y_customer_id) | float64 | A pair of real coordinates (x_customer_id,y_customer_id) in a 100 * 100 grid, that defines the geographical location of the customer |\n",
    "|(mean_amount, std_amount) | float64 | The mean and standard deviation of the transaction amounts for the customer, assuming that the transaction amounts follow a normal distribution. The mean_amount will be drawn from a uniform distribution (5,100) and the std_amount will be set as the mean_amount divided by two.|\n",
    "| mean_nb_tx_per_day | float64 | The average number of transactions per day for the customer, assuming that the number of transactions per day follows a Poisson distribution. This number will be drawn from a uniform distribution (0,4) |\n",
    "\n",
    "The generate_customer_profiles_table function provides an implementation for generating a table of customer profiles. It takes as input the number of customers for which to generate a profile and a random state for reproducibility. It returns a DataFrame containing the properties for each customer."
   ]
  },
  {
   "cell_type": "code",
   "execution_count": null,
   "id": "c1a58cc0",
   "metadata": {},
   "outputs": [],
   "source": [
    "customer_profiles_df.head()"
   ]
  },
  {
   "cell_type": "code",
   "execution_count": null,
   "id": "25cd18b2",
   "metadata": {
    "scrolled": true
   },
   "outputs": [],
   "source": [
    "customer_profiles_df.shape"
   ]
  },
  {
   "cell_type": "code",
   "execution_count": null,
   "id": "f8ac3f68",
   "metadata": {},
   "outputs": [],
   "source": [
    "fig, ax = plt.subplots(1,3,figsize=(16,8))\n",
    "mplstyle.use('bmh')\n",
    "fig.suptitle(\"Transaction description per customer\", fontsize=16, fontweight='bold')\n",
    "\n",
    "ax[0].boxplot(customer_profiles_df[\"mean_amount\"])\n",
    "ax[1].boxplot(customer_profiles_df[\"mean_nb_tx_per_day\"])\n",
    "ax[2].boxplot(customer_profiles_df[\"std_amount\"])\n",
    "\n",
    "ax[0].title.set_text(\"Mean transaction amount in euro\")\n",
    "ax[1].title.set_text(\"Mean of transaction number per day\")\n",
    "ax[2].title.set_text(\"Standard amount in euro\")\n",
    "\n",
    "\n",
    "plt.show()"
   ]
  },
  {
   "cell_type": "markdown",
   "id": "025c3dc6",
   "metadata": {},
   "source": [
    "2 - Terminal profile"
   ]
  },
  {
   "cell_type": "markdown",
   "id": "4eb392b7",
   "metadata": {},
   "source": [
    "| Column | Type | Description |\n",
    "| --- | --- | --- |\n",
    "| TERMINAL_ID | int64 | The terminal ID|\n",
    "| (x_terminal_id,y_terminal_id) | float64 | A pair of real coordinates (x_terminal_id,y_terminal_id) in a 100 * 100 grid, that defines the geographical location of the terminal|\n",
    "\n",
    "The generate_terminal_profiles_table function provides an implementation for generating a table of terminal profiles. It takes as input the number of terminals for which to generate a profile and a random state for reproducibility. It returns a DataFrame containing the properties for each terminal."
   ]
  },
  {
   "cell_type": "code",
   "execution_count": null,
   "id": "ba987eeb",
   "metadata": {},
   "outputs": [],
   "source": [
    "terminal_profiles_df.head()"
   ]
  },
  {
   "cell_type": "code",
   "execution_count": null,
   "id": "eb1310ba",
   "metadata": {},
   "outputs": [],
   "source": [
    "terminal_profiles_df.shape"
   ]
  },
  {
   "cell_type": "markdown",
   "id": "4e55366e",
   "metadata": {},
   "source": [
    "3 - Transaction list"
   ]
  },
  {
   "cell_type": "markdown",
   "id": "0e803b9a",
   "metadata": {},
   "source": [
    "\n",
    "| Column | Type | Description |\n",
    "| --- | --- | --- |\n",
    "| TRANSACTION_ID  | int64 | A unique identifier for the transaction|\n",
    "| TX_DATETIME  | object | Date and time at which the transaction occurs|\n",
    "| CUSTOMER_ID  | int64 | The identifier for the customer. Each customer has a unique identifier|\n",
    "| TERMINAL_ID  | int64 | The identifier for the merchant (or more precisely the terminal). Each terminal has a unique identifier|\n",
    "| TX_AMOUNT\t  | int64 | The amount of the transaction|\n",
    "| TX_FRAUD  | int64 | A binary variable, with the value 0 for a legitimate transaction, or the value 1 for a fraudulent transaction|\n",
    "| TX_FRAUD_SCENARIO | int64 | Referencing the fraud scenario, 0 indicate a genuine transaction|\n",
    "\n",
    "* Fraud scenario:\n",
    "\n",
    "Scenario 1: Any transaction whose amount is more than 220 is a fraud. This scenario is not inspired by a real-world scenario. \n",
    "\n",
    "Scenario 2: Every day, a list of 6 terminals is drawn at random. All transactions on these terminals in the next 28 days will be marked as fraudulent. This scenario simulates a criminal use of a terminal, through phishing for example. \n",
    "\n",
    "Scenario 3: Every day, a list of 6 customers is drawn at random. In the next 14 days, 1/3 of their transactions have their amounts multiplied by 5 and marked as fraudulent. This scenario simulates a card-not-present fraud where the credentials of a customer have been leaked. \n",
    "\n",
    "Scenario 4 : Every day a list of 4 customer is drawn at random. In the next 3 days every transaction have their amount multiplied by a random number between 3 and 6. This scenario simulate a hit and run scenario where fraudster try to exit as much funds as possible before being detected."
   ]
  },
  {
   "cell_type": "code",
   "execution_count": null,
   "id": "20515c17",
   "metadata": {},
   "outputs": [],
   "source": [
    "transactions_df.head()"
   ]
  },
  {
   "cell_type": "code",
   "execution_count": null,
   "id": "77a0c406",
   "metadata": {},
   "outputs": [],
   "source": [
    "#Fraud repartition\n",
    "\n",
    "transactions_df_temp = transactions_df.groupby(\"TX_FRAUD_SCENARIO\").count()\n",
    "transactions_df_temp[\"percentage\"] = (transactions_df_temp[[\"TX_FRAUD\"]]/\n",
    "                                      transactions_df_temp[[\"TX_FRAUD\"]].sum())*100\n",
    "transactions_df_temp[[\"TX_FRAUD\",\"percentage\"]]"
   ]
  },
  {
   "cell_type": "code",
   "execution_count": null,
   "id": "94603bb1",
   "metadata": {},
   "outputs": [],
   "source": [
    "sns.displot(color = \"rocket\", height=8)\n",
    "\n",
    "ax = sns.boxplot(x = \"TX_FRAUD_SCENARIO\",y = \"TX_AMOUNT\", data= transactions_df, showfliers = False)\n",
    "ax.set_title(\"Transaction amount/ different fraud scenario\")\n",
    "ax.set_ylabel(\"Amount\")\n",
    "ax.set_xlabel(\"Fraud scenario\");"
   ]
  },
  {
   "cell_type": "code",
   "execution_count": null,
   "id": "00cb40c7",
   "metadata": {},
   "outputs": [],
   "source": [
    "#convert the transactions_df.TX_DATETIME column to a mor\n",
    "pop = pd.to_datetime(transactions_df[\"TX_DATETIME\"], format='%Y, %m, %d').dt.date\n",
    "transactions_df_temp = transactions_df\n",
    "transactions_df_temp[\"temp_date\"] = pop"
   ]
  },
  {
   "cell_type": "code",
   "execution_count": null,
   "id": "0fee69b4",
   "metadata": {},
   "outputs": [],
   "source": [
    "scn_0 = transactions_df_temp[transactions_df_temp.TX_FRAUD_SCENARIO == 0]\n",
    "scn_1 = transactions_df_temp[transactions_df_temp.TX_FRAUD_SCENARIO == 1]\n",
    "scn_2 = transactions_df_temp[transactions_df_temp.TX_FRAUD_SCENARIO == 2]\n",
    "scn_3 = transactions_df_temp[transactions_df_temp.TX_FRAUD_SCENARIO == 3]\n",
    "scn_4 = transactions_df_temp[transactions_df_temp.TX_FRAUD_SCENARIO == 4]\n",
    "scn_fraud = transactions_df_temp[transactions_df_temp.TX_FRAUD_SCENARIO != 0]"
   ]
  },
  {
   "cell_type": "code",
   "execution_count": null,
   "id": "9d999e72",
   "metadata": {},
   "outputs": [],
   "source": [
    "temp_0_sum = scn_0.resample(\"d\", on=\"TX_DATETIME\").sum()\n",
    "temp_1_sum = scn_1.resample(\"d\", on=\"TX_DATETIME\").sum()\n",
    "temp_2_sum = scn_2.resample(\"d\", on=\"TX_DATETIME\").sum()\n",
    "temp_3_sum = scn_3.resample(\"d\", on=\"TX_DATETIME\").sum()\n",
    "temp_4_sum = scn_4.resample(\"d\", on=\"TX_DATETIME\").sum()\n",
    "temp_fraud_sum = scn_fraud.resample(\"d\", on=\"TX_DATETIME\").sum()\n",
    "\n",
    "temp_0_count = scn_0.resample(\"d\", on=\"TX_DATETIME\").count()\n",
    "temp_1_count = scn_1.resample(\"d\", on=\"TX_DATETIME\").count()\n",
    "temp_2_count = scn_2.resample(\"d\", on=\"TX_DATETIME\").count()\n",
    "temp_3_count = scn_3.resample(\"d\", on=\"TX_DATETIME\").count()\n",
    "temp_4_count = scn_4.resample(\"d\", on=\"TX_DATETIME\").count()\n",
    "temp_fraud_count = scn_fraud.resample(\"d\", on=\"TX_DATETIME\").sum()"
   ]
  },
  {
   "cell_type": "code",
   "execution_count": null,
   "id": "2f383080",
   "metadata": {},
   "outputs": [],
   "source": [
    "fig, ax=plt.subplots(figsize=(25, 15))\n",
    "mplstyle.use('bmh')\n",
    "plt.plot(temp_0_sum.index  , (temp_0_sum.TX_AMOUNT/10),label=\"Fraud scenario 0 / 10\", color = \"mediumblue\")\n",
    "plt.plot(temp_1_sum.index, temp_1_sum.TX_AMOUNT,label=\"Fraud scenario 1\",color = \"maroon\")\n",
    "plt.plot(temp_2_sum.index, temp_2_sum.TX_AMOUNT,label=\"Fraud scenario 2\",color = \"yellow\")\n",
    "plt.plot(temp_3_sum.index, temp_3_sum.TX_AMOUNT,label=\"Fraud scenario 3\",color = \"green\")\n",
    "plt.plot(temp_4_sum.index, temp_4_sum.TX_AMOUNT,label=\"Fraud scenario 4\",color =\"orange\")\n",
    "\n",
    "plt.title(\"Transaction amount / day\", fontsize=30, fontweight='bold')\n",
    "ax.legend(fontsize=15)\n",
    "plt.show()"
   ]
  },
  {
   "cell_type": "code",
   "execution_count": null,
   "id": "14cd9f2d",
   "metadata": {},
   "outputs": [],
   "source": [
    "fig, ax=plt.subplots(figsize=(25, 15))\n",
    "\n",
    "\n",
    "plt.plot(temp_0_count.index, (temp_0_count.TX_AMOUNT/100),label=\"Fraud scenario 0 / 100\", color = \"mediumblue\")\n",
    "plt.plot(temp_1_count.index, temp_1_count.TX_AMOUNT,label=\"Fraud scenario 1\",color = \"maroon\")\n",
    "plt.plot(temp_2_count.index, temp_2_count.TX_AMOUNT,label=\"Fraud scenario 2\",color = \"yellow\")\n",
    "plt.plot(temp_3_count.index, temp_3_count.TX_AMOUNT,label=\"Fraud scenario 3\",color = \"green\")\n",
    "plt.plot(temp_4_count.index, temp_4_count.TX_AMOUNT,label=\"Fraud scenario 4\",color =\"orange\")\n",
    "\n",
    "plt.title(\"Transaction count / day\", fontsize=30, fontweight='bold')\n",
    "ax.legend(fontsize=15)\n",
    "plt.show()"
   ]
  },
  {
   "cell_type": "markdown",
   "id": "ac759990",
   "metadata": {},
   "source": [
    "# Dataframe transformation"
   ]
  },
  {
   "cell_type": "code",
   "execution_count": null,
   "id": "b7671ae3",
   "metadata": {},
   "outputs": [],
   "source": [
    "from datetime import datetime\n",
    "\n",
    "#date transaformation\n",
    "# could be optimised\n",
    "def func_date_monday (data1):\n",
    "  \n",
    "    if data1.weekday() == 0:\n",
    "        return 1\n",
    "    else:\n",
    "        return 0\n",
    "    \n",
    "def func_date_tuesday (data1):\n",
    "   \n",
    "    if data1.weekday() == 1:\n",
    "        return 1\n",
    "    else:\n",
    "        return 0\n",
    "\n",
    "def func_date_wednesday (data1):\n",
    "    \n",
    "    if data1.weekday() == 2:\n",
    "        return 1\n",
    "    else:\n",
    "        return 0\n",
    "def func_date_thursday (data1):\n",
    "    \n",
    "    if data1.weekday() == 3:\n",
    "        return 1\n",
    "    else:\n",
    "        return 0\n",
    "def func_date_friday (data1):\n",
    "   \n",
    "    if data1.weekday() == 4:\n",
    "        return 1\n",
    "    else:\n",
    "        return 0\n",
    "def func_date_saturday (data1):\n",
    "    \n",
    "    if data1.weekday() == 5:\n",
    "        return 1\n",
    "    else:\n",
    "        return 0\n",
    "def func_date_sunday (data1):\n",
    "   \n",
    "    if data1.weekday() == 6:\n",
    "        return 1\n",
    "    else:\n",
    "        return 0"
   ]
  },
  {
   "cell_type": "code",
   "execution_count": null,
   "id": "4c5809a3",
   "metadata": {},
   "outputs": [],
   "source": [
    "# could be optimised\n",
    "transactions_df[\"is_monday\"]=transactions_df.TX_DATETIME.apply(func_date_monday);\n",
    "transactions_df[\"is_tuesday\"]=transactions_df.TX_DATETIME.apply(func_date_tuesday);\n",
    "transactions_df[\"is_wednesday\"]=transactions_df.TX_DATETIME.apply(func_date_wednesday);\n",
    "transactions_df[\"is_thursday\"]=transactions_df.TX_DATETIME.apply(func_date_thursday);\n",
    "transactions_df[\"is_friday\"]=transactions_df.TX_DATETIME.apply(func_date_friday);\n",
    "transactions_df[\"is_saturday\"]=transactions_df.TX_DATETIME.apply(func_date_saturday);\n",
    "transactions_df[\"is_sunday\"]=transactions_df.TX_DATETIME.apply(func_date_sunday)"
   ]
  },
  {
   "cell_type": "code",
   "execution_count": null,
   "id": "52ce8f50",
   "metadata": {},
   "outputs": [],
   "source": [
    "def timestamp1(data1):\n",
    "\n",
    "    if data1.hour <=6:\n",
    "        return 1\n",
    "    else:\n",
    "        return 0\n",
    "    \n",
    "def timestamp2(data1):\n",
    "   \n",
    "    if data1.hour >6 and data1.hour <= 12:\n",
    "        return 1\n",
    "    else:\n",
    "        return 0\n",
    "def timestamp3(data1):\n",
    "  \n",
    "    if data1.hour >12 and data1.hour <= 18:\n",
    "        return 1\n",
    "    else:\n",
    "        return 0\n",
    "def timestamp4(data1):\n",
    "  \n",
    "    if data1.hour >18:\n",
    "        return 1\n",
    "    else:\n",
    "        return 0"
   ]
  },
  {
   "cell_type": "code",
   "execution_count": null,
   "id": "1094b328",
   "metadata": {},
   "outputs": [],
   "source": [
    "transactions_df[\"hour_1_4\"]=transactions_df.TX_DATETIME.apply(timestamp1)\n",
    "transactions_df[\"hour_2_4\"]=transactions_df.TX_DATETIME.apply(timestamp2)\n",
    "transactions_df[\"hour_3_4\"]=transactions_df.TX_DATETIME.apply(timestamp3)\n",
    "transactions_df[\"hour_4_4\"]=transactions_df.TX_DATETIME.apply(timestamp4)"
   ]
  },
  {
   "cell_type": "code",
   "execution_count": null,
   "id": "49c27da6",
   "metadata": {},
   "outputs": [],
   "source": [
    "def tran_hist (temp_tran_id, window_days):\n",
    "#sort transaction id by date time and reindex the df\n",
    "    \n",
    "    transaction_id_temp_df = temp_tran_id.sort_values(\"TX_DATETIME\")\n",
    "    transaction_id_temp_df.index = transaction_id_temp_df[\"TX_DATETIME\"]\n",
    "\n",
    "#for loop that will sum number of transaction and average amount on defined period for \n",
    "    for period in window_days:\n",
    "        sum_tran_period = transaction_id_temp_df[\"TX_AMOUNT\"].rolling(str(period) + \"d\").sum()\n",
    "        count_tran_period =transaction_id_temp_df[\"TX_AMOUNT\"].rolling(str(period)+\"d\").count()\n",
    "        average_tran_period = sum_tran_period/count_tran_period\n",
    "        \n",
    "        transaction_id_temp_df[\"average_tx_last\"+ str(period) + \"days\"] = average_tran_period\n",
    "        transaction_id_temp_df[\"tx_count_over_last\"+ str(period) + \"days\"] = count_tran_period\n",
    "\n",
    "\n",
    "    return transaction_id_temp_df"
   ]
  },
  {
   "cell_type": "code",
   "execution_count": null,
   "id": "f20a5744",
   "metadata": {},
   "outputs": [],
   "source": [
    "# create columns with rolling transaction history \n",
    "temp_bis_df=transactions_df.groupby(\"CUSTOMER_ID\").apply(lambda x: tran_hist(x, window_days=[1,7,30]))\n",
    "temp_bis_df=temp_bis_df.sort_values(\"TX_TIME_SECONDS\").reset_index(drop=True)\n",
    "transactions_df = temp_bis_df"
   ]
  },
  {
   "cell_type": "code",
   "execution_count": null,
   "id": "dd6f79ea",
   "metadata": {},
   "outputs": [],
   "source": [
    "def terminal_hist (terminal_id, window_days, period_uncertainty = 10):\n",
    "\n",
    "#sort terminaid by date time and reindex the df\n",
    "    \n",
    "    terminal_id_temp_df = terminal_id.sort_values(\"TX_DATETIME\")\n",
    "    terminal_id_temp_df.index = terminal_id_temp_df[\"TX_DATETIME\"]\n",
    "\n",
    "#for loop that will sum number of transaction and average amount on defined period for \n",
    "    for period in window_days:\n",
    "        count_genuine_tran_period = terminal_id_temp_df[\"TX_FRAUD\"].rolling(min_periods= period_uncertainty, \n",
    "                                                                            window = (str(period) + \"d\")).count()\n",
    "        count_fraudulent__tran_period =terminal_id_temp_df[\"TX_FRAUD\"].rolling(str(period)+\"d\").sum()\n",
    "        fraud_rate_period = count_fraudulent__tran_period/count_genuine_tran_period\n",
    "        \n",
    "        terminal_id_temp_df[\"average_terminal_fraud_rate_last\"+ str(period) + \"days\"] = fraud_rate_period\n",
    "\n",
    "\n",
    "    return terminal_id_temp_df"
   ]
  },
  {
   "cell_type": "code",
   "execution_count": null,
   "id": "706faefb",
   "metadata": {},
   "outputs": [],
   "source": [
    "temp_bis_df=transactions_df.groupby(\"TERMINAL_ID\").apply(lambda x: terminal_hist(x, window_days =[15,30]))\n",
    "temp_bis_df=temp_bis_df.sort_values(\"TX_TIME_SECONDS\").reset_index(drop=True)\n",
    "transactions_df = temp_bis_df"
   ]
  },
  {
   "cell_type": "code",
   "execution_count": null,
   "id": "b7dd1be3",
   "metadata": {},
   "outputs": [],
   "source": [
    "transactions_df = transactions_df.fillna(0)"
   ]
  },
  {
   "cell_type": "code",
   "execution_count": null,
   "id": "be10a3ac",
   "metadata": {},
   "outputs": [],
   "source": []
  },
  {
   "cell_type": "code",
   "execution_count": null,
   "id": "c816bce6",
   "metadata": {},
   "outputs": [],
   "source": [
    "transactions_df.sample(10)"
   ]
  },
  {
   "cell_type": "markdown",
   "id": "77d8b2fa",
   "metadata": {},
   "source": [
    "# Machine learning"
   ]
  },
  {
   "cell_type": "code",
   "execution_count": null,
   "id": "9b0fce31",
   "metadata": {},
   "outputs": [],
   "source": [
    "from sklearn.model_selection import train_test_split"
   ]
  },
  {
   "cell_type": "code",
   "execution_count": null,
   "id": "a10688d6",
   "metadata": {},
   "outputs": [],
   "source": [
    "X=transactions_df[['TX_AMOUNT', 'is_monday', 'is_tuesday', 'is_wednesday',\n",
    "       'is_thursday', 'is_friday', 'is_saturday', 'is_sunday', 'hour_1_4',\n",
    "       'hour_2_4', 'hour_3_4', 'hour_4_4', 'average_tx_last1days',\n",
    "       'tx_count_over_last1days', 'average_tx_last7days',\n",
    "       'tx_count_over_last7days', 'average_tx_last30days',\n",
    "       'tx_count_over_last30days','average_terminal_fraud_rate_last15days',\n",
    "       'average_terminal_fraud_rate_last30days']]  # Features\n",
    "y=transactions_df['TX_FRAUD'] "
   ]
  },
  {
   "cell_type": "code",
   "execution_count": null,
   "id": "af33d686",
   "metadata": {},
   "outputs": [],
   "source": [
    "%time X_train, X_test, y_train, y_test = train_test_split(X, y, test_size=0.1)"
   ]
  },
  {
   "cell_type": "code",
   "execution_count": null,
   "id": "2b39f65b",
   "metadata": {},
   "outputs": [],
   "source": [
    "#Import Random Forest Model\n",
    "from sklearn.ensemble import RandomForestClassifier\n",
    "\n",
    "#Create a Gaussian Classifier\n",
    "clf=RandomForestClassifier(n_estimators=100, n_jobs=-1)\n",
    "\n",
    "#Train the model using the training sets y_pred=clf.predict(X_test)\n",
    "%time clf.fit(X_train,y_train)\n",
    "\n",
    "%time y_pred=clf.predict(X_test)"
   ]
  },
  {
   "cell_type": "code",
   "execution_count": null,
   "id": "0ef7041e",
   "metadata": {
    "scrolled": true
   },
   "outputs": [],
   "source": [
    "from sklearn import metrics\n",
    "# Model Accuracy, how often is the classifier correct?\n",
    "%time print(\"Accuracy:\",metrics.accuracy_score(y_test, y_pred))"
   ]
  },
  {
   "cell_type": "code",
   "execution_count": null,
   "id": "7db37d35",
   "metadata": {},
   "outputs": [],
   "source": [
    "feature_imp = pd.Series(clf.feature_importances_,index=X.columns).sort_values(ascending=False)\n",
    "feature_imp"
   ]
  },
  {
   "cell_type": "code",
   "execution_count": null,
   "id": "f3bd6570",
   "metadata": {},
   "outputs": [],
   "source": [
    "%matplotlib inline\n",
    "# Creating a bar plot\n",
    "sns.barplot(x=feature_imp, y=feature_imp.index)\n",
    "# Add labels to your graph\n",
    "plt.xlabel('Feature Importance Score')\n",
    "plt.ylabel('Features')\n",
    "plt.title(\"Visualizing Important Features\")\n",
    "plt.legend()\n",
    "plt.show()"
   ]
  },
  {
   "cell_type": "code",
   "execution_count": null,
   "id": "6371474f",
   "metadata": {},
   "outputs": [],
   "source": [
    "#trying to find the best setting\n",
    "\n",
    "from sklearn.model_selection import GridSearchCV\n",
    "\n",
    "\n",
    "X_train, X_test, y_train, y_test = train_test_split(X, y, test_size=0.1, random_state=42)\n",
    "\n",
    "rfc=RandomForestClassifier(random_state=42, n_jobs=-1)\n",
    "\n",
    "param_grid = { \n",
    "    'n_estimators': [50,75,100,125,150,175,200],\n",
    "    'max_features': ['auto', 'sqrt', 'log2'],\n",
    "    'max_depth' : [10,15,20,25,30],\n",
    "    'criterion' :['gini', 'entropy']\n",
    "}"
   ]
  },
  {
   "cell_type": "code",
   "execution_count": null,
   "id": "c520ac57",
   "metadata": {},
   "outputs": [],
   "source": [
    "%time CV_rfc = GridSearchCV(estimator=rfc, param_grid=param_grid, cv= 5,n_jobs=-1)\n",
    "\n"
   ]
  },
  {
   "cell_type": "code",
   "execution_count": null,
   "id": "bae7862b",
   "metadata": {},
   "outputs": [],
   "source": [
    "%time CV_rfc.fit(X_train, y_train)"
   ]
  },
  {
   "cell_type": "code",
   "execution_count": null,
   "id": "f4096523",
   "metadata": {},
   "outputs": [],
   "source": [
    "%time CV_rfc.best_params_"
   ]
  },
  {
   "cell_type": "code",
   "execution_count": null,
   "id": "22797f38",
   "metadata": {},
   "outputs": [],
   "source": []
  },
  {
   "cell_type": "code",
   "execution_count": null,
   "id": "4116e236",
   "metadata": {},
   "outputs": [],
   "source": []
  },
  {
   "cell_type": "markdown",
   "id": "27e3a445",
   "metadata": {},
   "source": [
    "looking for the granular details"
   ]
  },
  {
   "cell_type": "code",
   "execution_count": null,
   "id": "f0650e16",
   "metadata": {},
   "outputs": [],
   "source": [
    "prediction = X\n",
    "%time tem_p = clf.predict(X)\n",
    "%time tem_p_2 = clf.predict_proba(X)[:,1]\n",
    "prediction.insert(20, \"prediction\", tem_p, True)\n",
    "prediction.insert(21, \"prediction_rate\", tem_p_2, True)"
   ]
  },
  {
   "cell_type": "code",
   "execution_count": null,
   "id": "580d90d9",
   "metadata": {},
   "outputs": [],
   "source": [
    "prediction_df = pd.DataFrame((tem_p), columns=[\"prediction\"])\n",
    "prediction_df = pd.concat([prediction_df,prediction[\"prediction_rate\"]],axis=1)"
   ]
  },
  {
   "cell_type": "code",
   "execution_count": null,
   "id": "47bf9370",
   "metadata": {},
   "outputs": [],
   "source": []
  },
  {
   "cell_type": "code",
   "execution_count": null,
   "id": "ab0789ed",
   "metadata": {},
   "outputs": [],
   "source": [
    "prediction_temp = []\n",
    "\n",
    "for i in transactions_df[\"TX_FRAUD\"]:\n",
    "    prediction_temp.append(i)"
   ]
  },
  {
   "cell_type": "code",
   "execution_count": null,
   "id": "f17dee3e",
   "metadata": {},
   "outputs": [],
   "source": [
    "prediction_temp= pd.DataFrame(prediction_temp, columns=[\"TX_FRAUD\"])"
   ]
  },
  {
   "cell_type": "code",
   "execution_count": null,
   "id": "f35d519a",
   "metadata": {},
   "outputs": [],
   "source": [
    "result = pd.concat([prediction_df,prediction_temp],axis=1).reindex(prediction_temp.index)"
   ]
  },
  {
   "cell_type": "code",
   "execution_count": null,
   "id": "a43b3ff7",
   "metadata": {},
   "outputs": [],
   "source": [
    "result[\"false_positive\"] = np.where((result[\"prediction\"] == 1) &\n",
    "                                   (result[\"TX_FRAUD\"] == 0), 1,0)\n",
    "\n",
    "result[\"fraud_missed\"] = np.where((result[\"prediction\"] == 0) &\n",
    "                                   (result[\"TX_FRAUD\"] == 1), 1,0 )\n",
    "\n",
    "result[\"fraud_catch\"] = np.where((result[\"prediction\"] == result[\"TX_FRAUD\"])&\n",
    "                                   (result[\"TX_FRAUD\"] == 1), 1,0)\n",
    "\n",
    "result[\"good_tx\"] = np.where((result[\"prediction\"] == result[\"TX_FRAUD\"])&\n",
    "                                   (result[\"prediction\"] == 0), 1,0)\n",
    "\n",
    "result[\"correct_decision\"] = np.where((result[\"prediction\"] == result[\"TX_FRAUD\"])|\n",
    "                                      (result[\"prediction\"] != result[\"TX_FRAUD\"]), 1,0)"
   ]
  },
  {
   "cell_type": "code",
   "execution_count": null,
   "id": "062f2603",
   "metadata": {},
   "outputs": [],
   "source": [
    "result.sum()"
   ]
  },
  {
   "cell_type": "code",
   "execution_count": null,
   "id": "f89f4a00",
   "metadata": {},
   "outputs": [],
   "source": [
    "result.head()"
   ]
  },
  {
   "cell_type": "code",
   "execution_count": null,
   "id": "5ec18454",
   "metadata": {},
   "outputs": [],
   "source": []
  },
  {
   "cell_type": "code",
   "execution_count": null,
   "id": "71ebb7e2",
   "metadata": {},
   "outputs": [],
   "source": []
  },
  {
   "cell_type": "markdown",
   "id": "ccc823e1",
   "metadata": {},
   "source": [
    "Looking for fraud scenario"
   ]
  },
  {
   "cell_type": "code",
   "execution_count": null,
   "id": "f552afae",
   "metadata": {},
   "outputs": [],
   "source": [
    "X=transactions_df[['TX_AMOUNT', 'is_monday', 'is_tuesday', 'is_wednesday',\n",
    "       'is_thursday', 'is_friday', 'is_saturday', 'is_sunday', 'hour_1_4',\n",
    "       'hour_2_4', 'hour_3_4', 'hour_4_4', 'average_tx_last1days',\n",
    "       'tx_count_over_last1days', 'average_tx_last7days',\n",
    "       'tx_count_over_last7days', 'average_tx_last30days',\n",
    "       'tx_count_over_last30days','average_terminal_fraud_rate_last15days',\n",
    "       'average_terminal_fraud_rate_last30days']]  # Features\n",
    "y=transactions_df['TX_FRAUD_SCENARIO'] "
   ]
  },
  {
   "cell_type": "code",
   "execution_count": null,
   "id": "2a8a7162",
   "metadata": {},
   "outputs": [],
   "source": [
    "%time X_train, X_test, y_train, y_test = train_test_split(X, y, test_size=0.1)"
   ]
  },
  {
   "cell_type": "code",
   "execution_count": null,
   "id": "2711e77d",
   "metadata": {},
   "outputs": [],
   "source": [
    "#Create a Gaussian Classifier\n",
    "clf=RandomForestClassifier(n_estimators=100, n_jobs=-1)\n",
    "\n",
    "#Train the model using the training sets y_pred=clf.predict(X_test)\n",
    "%time clf.fit(X_train,y_train)\n",
    "\n",
    "%time y_pred=clf.predict(X_test)"
   ]
  },
  {
   "cell_type": "code",
   "execution_count": null,
   "id": "084a59d5",
   "metadata": {},
   "outputs": [],
   "source": [
    "# Model Accuracy, how often is the classifier correct?\n",
    "%time print(\"Accuracy:\",metrics.accuracy_score(y_test, y_pred))"
   ]
  },
  {
   "cell_type": "code",
   "execution_count": null,
   "id": "c529bdc8",
   "metadata": {},
   "outputs": [],
   "source": [
    "feature_imp = pd.Series(clf.feature_importances_,index=X.columns).sort_values(ascending=False)\n",
    "feature_imp"
   ]
  },
  {
   "cell_type": "code",
   "execution_count": null,
   "id": "3463be99",
   "metadata": {},
   "outputs": [],
   "source": [
    "%matplotlib inline\n",
    "# Creating a bar plot\n",
    "sns.barplot(x=feature_imp, y=feature_imp.index)\n",
    "# Add labels to your graph\n",
    "plt.xlabel('Feature Importance Score')\n",
    "plt.ylabel('Features')\n",
    "plt.title(\"Visualizing Important Features\")\n",
    "plt.legend()\n",
    "plt.show()"
   ]
  },
  {
   "cell_type": "code",
   "execution_count": null,
   "id": "d0081539",
   "metadata": {},
   "outputs": [],
   "source": []
  }
 ],
 "metadata": {
  "kernelspec": {
   "display_name": "Python 3",
   "language": "python",
   "name": "python3"
  },
  "language_info": {
   "codemirror_mode": {
    "name": "ipython",
    "version": 3
   },
   "file_extension": ".py",
   "mimetype": "text/x-python",
   "name": "python",
   "nbconvert_exporter": "python",
   "pygments_lexer": "ipython3",
   "version": "3.8.8"
  }
 },
 "nbformat": 4,
 "nbformat_minor": 5
}
