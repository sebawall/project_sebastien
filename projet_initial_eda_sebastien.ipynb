{
 "cells": [
  {
   "cell_type": "code",
   "execution_count": 1,
   "id": "e12bdfc2",
   "metadata": {},
   "outputs": [],
   "source": [
    "import pandas as pd\n",
    "import numpy as np\n",
    "import matplotlib.pyplot as plt\n",
    "import seaborn as sns\n",
    "from functools import reduce"
   ]
  },
  {
   "cell_type": "code",
   "execution_count": 2,
   "id": "c1fccae2",
   "metadata": {},
   "outputs": [],
   "source": [
    "customer_profiles_df=pd.read_csv(\"./data/customer_profiles_table.csv\")\n",
    "transactions_df=pd.read_csv(\"./data/transactions_df.csv\")\n",
    "terminal_profiles_df=pd.read_csv(\"./data/terminal_profiles_table.csv\")"
   ]
  },
  {
   "cell_type": "markdown",
   "id": "cb5f3a77",
   "metadata": {},
   "source": [
    "# Introduction\n",
    "\n",
    "This project will use a data set generator created by [Yann-Aël Le Borgne & Gianluca Bontempi](https://fraud-detection-handbook.github.io/fraud-detection-handbook/Chapter_3_GettingStarted/SimulatedDataset.html). The generator will create three dataset that reproduce the logs of a fictional card company, including fraudulent transactions by fraudsters. \n",
    "\n",
    "The logs are split in three dataset, column name in lower case are directly linked to the main dataset **transactions_df**:\n",
    "\n",
    "1 - Customer profile\n",
    "\n",
    "| Column | Type | Description |\n",
    "| --- | --- | --- |\n",
    "| CUSTOMER_ID | int64 | The customer unique ID|\n",
    "|(x_customer_id,y_customer_id) | float64 | A pair of real coordinates (x_customer_id,y_customer_id) in a 100 * 100 grid, that defines the geographical location of the customer |\n",
    "|(mean_amount, std_amount) | float64 | The mean and standard deviation of the transaction amounts for the customer, assuming that the transaction amounts follow a normal distribution. The mean_amount will be drawn from a uniform distribution (5,100) and the std_amount will be set as the mean_amount divided by two.|\n",
    "| mean_nb_tx_per_day | float64 | The average number of transactions per day for the customer, assuming that the number of transactions per day follows a Poisson distribution. This number will be drawn from a uniform distribution (0,4) |\n",
    "\n",
    "The generate_customer_profiles_table function provides an implementation for generating a table of customer profiles. It takes as input the number of customers for which to generate a profile and a random state for reproducibility. It returns a DataFrame containing the properties for each customer."
   ]
  },
  {
   "cell_type": "code",
   "execution_count": 3,
   "id": "13e0c715",
   "metadata": {},
   "outputs": [
    {
     "data": {
      "text/plain": [
       "CUSTOMER_ID              int64\n",
       "x_customer_id          float64\n",
       "y_customer_id          float64\n",
       "mean_amount            float64\n",
       "std_amount             float64\n",
       "mean_nb_tx_per_day     float64\n",
       "available_terminals     object\n",
       "nb_terminals             int64\n",
       "dtype: object"
      ]
     },
     "execution_count": 3,
     "metadata": {},
     "output_type": "execute_result"
    }
   ],
   "source": [
    "customer_profiles_df.dtypes"
   ]
  },
  {
   "cell_type": "code",
   "execution_count": 4,
   "id": "cf08f583",
   "metadata": {
    "scrolled": false
   },
   "outputs": [
    {
     "data": {
      "text/html": [
       "<div>\n",
       "<style scoped>\n",
       "    .dataframe tbody tr th:only-of-type {\n",
       "        vertical-align: middle;\n",
       "    }\n",
       "\n",
       "    .dataframe tbody tr th {\n",
       "        vertical-align: top;\n",
       "    }\n",
       "\n",
       "    .dataframe thead th {\n",
       "        text-align: right;\n",
       "    }\n",
       "</style>\n",
       "<table border=\"1\" class=\"dataframe\">\n",
       "  <thead>\n",
       "    <tr style=\"text-align: right;\">\n",
       "      <th></th>\n",
       "      <th>CUSTOMER_ID</th>\n",
       "      <th>x_customer_id</th>\n",
       "      <th>y_customer_id</th>\n",
       "      <th>mean_amount</th>\n",
       "      <th>std_amount</th>\n",
       "      <th>mean_nb_tx_per_day</th>\n",
       "      <th>available_terminals</th>\n",
       "      <th>nb_terminals</th>\n",
       "    </tr>\n",
       "  </thead>\n",
       "  <tbody>\n",
       "    <tr>\n",
       "      <th>0</th>\n",
       "      <td>0</td>\n",
       "      <td>54.881350</td>\n",
       "      <td>71.518937</td>\n",
       "      <td>62.262521</td>\n",
       "      <td>31.131260</td>\n",
       "      <td>2.179533</td>\n",
       "      <td>[29, 87, 144, 241, 330, 858, 996]</td>\n",
       "      <td>7</td>\n",
       "    </tr>\n",
       "    <tr>\n",
       "      <th>1</th>\n",
       "      <td>1</td>\n",
       "      <td>42.365480</td>\n",
       "      <td>64.589411</td>\n",
       "      <td>46.570785</td>\n",
       "      <td>23.285393</td>\n",
       "      <td>3.567092</td>\n",
       "      <td>[5, 160, 242, 378, 431, 475, 571, 762, 876, 93...</td>\n",
       "      <td>12</td>\n",
       "    </tr>\n",
       "    <tr>\n",
       "      <th>2</th>\n",
       "      <td>2</td>\n",
       "      <td>96.366276</td>\n",
       "      <td>38.344152</td>\n",
       "      <td>80.213879</td>\n",
       "      <td>40.106939</td>\n",
       "      <td>2.115580</td>\n",
       "      <td>[316, 406, 447, 523, 968]</td>\n",
       "      <td>5</td>\n",
       "    </tr>\n",
       "    <tr>\n",
       "      <th>3</th>\n",
       "      <td>3</td>\n",
       "      <td>56.804456</td>\n",
       "      <td>92.559664</td>\n",
       "      <td>11.748426</td>\n",
       "      <td>5.874213</td>\n",
       "      <td>0.348517</td>\n",
       "      <td>[65, 94, 113, 364, 401, 433, 485, 651, 672, 77...</td>\n",
       "      <td>14</td>\n",
       "    </tr>\n",
       "    <tr>\n",
       "      <th>4</th>\n",
       "      <td>4</td>\n",
       "      <td>2.021840</td>\n",
       "      <td>83.261985</td>\n",
       "      <td>78.924891</td>\n",
       "      <td>39.462446</td>\n",
       "      <td>3.480049</td>\n",
       "      <td>[372, 614, 774]</td>\n",
       "      <td>3</td>\n",
       "    </tr>\n",
       "  </tbody>\n",
       "</table>\n",
       "</div>"
      ],
      "text/plain": [
       "   CUSTOMER_ID  x_customer_id  y_customer_id  mean_amount  std_amount  \\\n",
       "0            0      54.881350      71.518937    62.262521   31.131260   \n",
       "1            1      42.365480      64.589411    46.570785   23.285393   \n",
       "2            2      96.366276      38.344152    80.213879   40.106939   \n",
       "3            3      56.804456      92.559664    11.748426    5.874213   \n",
       "4            4       2.021840      83.261985    78.924891   39.462446   \n",
       "\n",
       "   mean_nb_tx_per_day                                available_terminals  \\\n",
       "0            2.179533                  [29, 87, 144, 241, 330, 858, 996]   \n",
       "1            3.567092  [5, 160, 242, 378, 431, 475, 571, 762, 876, 93...   \n",
       "2            2.115580                          [316, 406, 447, 523, 968]   \n",
       "3            0.348517  [65, 94, 113, 364, 401, 433, 485, 651, 672, 77...   \n",
       "4            3.480049                                    [372, 614, 774]   \n",
       "\n",
       "   nb_terminals  \n",
       "0             7  \n",
       "1            12  \n",
       "2             5  \n",
       "3            14  \n",
       "4             3  "
      ]
     },
     "execution_count": 4,
     "metadata": {},
     "output_type": "execute_result"
    }
   ],
   "source": [
    "customer_profiles_df.head()"
   ]
  },
  {
   "cell_type": "code",
   "execution_count": 5,
   "id": "2a689a81",
   "metadata": {},
   "outputs": [
    {
     "data": {
      "text/plain": [
       "(5000, 8)"
      ]
     },
     "execution_count": 5,
     "metadata": {},
     "output_type": "execute_result"
    }
   ],
   "source": [
    "customer_profiles_df.shape"
   ]
  },
  {
   "cell_type": "code",
   "execution_count": 6,
   "id": "d386a9b5",
   "metadata": {
    "scrolled": false
   },
   "outputs": [
    {
     "data": {
      "text/html": [
       "<div>\n",
       "<style scoped>\n",
       "    .dataframe tbody tr th:only-of-type {\n",
       "        vertical-align: middle;\n",
       "    }\n",
       "\n",
       "    .dataframe tbody tr th {\n",
       "        vertical-align: top;\n",
       "    }\n",
       "\n",
       "    .dataframe thead th {\n",
       "        text-align: right;\n",
       "    }\n",
       "</style>\n",
       "<table border=\"1\" class=\"dataframe\">\n",
       "  <thead>\n",
       "    <tr style=\"text-align: right;\">\n",
       "      <th></th>\n",
       "      <th>CUSTOMER_ID</th>\n",
       "      <th>x_customer_id</th>\n",
       "      <th>y_customer_id</th>\n",
       "      <th>mean_amount</th>\n",
       "      <th>std_amount</th>\n",
       "      <th>mean_nb_tx_per_day</th>\n",
       "      <th>available_terminals</th>\n",
       "      <th>nb_terminals</th>\n",
       "    </tr>\n",
       "  </thead>\n",
       "  <tbody>\n",
       "    <tr>\n",
       "      <th>253</th>\n",
       "      <td>253</td>\n",
       "      <td>28.754450</td>\n",
       "      <td>45.670363</td>\n",
       "      <td>6.990257</td>\n",
       "      <td>3.495128</td>\n",
       "      <td>1.646462</td>\n",
       "      <td>[]</td>\n",
       "      <td>0</td>\n",
       "    </tr>\n",
       "    <tr>\n",
       "      <th>463</th>\n",
       "      <td>463</td>\n",
       "      <td>28.477971</td>\n",
       "      <td>44.462536</td>\n",
       "      <td>93.362004</td>\n",
       "      <td>46.681002</td>\n",
       "      <td>0.725071</td>\n",
       "      <td>[]</td>\n",
       "      <td>0</td>\n",
       "    </tr>\n",
       "    <tr>\n",
       "      <th>753</th>\n",
       "      <td>753</td>\n",
       "      <td>30.796569</td>\n",
       "      <td>42.946659</td>\n",
       "      <td>34.939393</td>\n",
       "      <td>17.469696</td>\n",
       "      <td>0.280694</td>\n",
       "      <td>[]</td>\n",
       "      <td>0</td>\n",
       "    </tr>\n",
       "    <tr>\n",
       "      <th>2317</th>\n",
       "      <td>2317</td>\n",
       "      <td>32.724566</td>\n",
       "      <td>47.369004</td>\n",
       "      <td>77.806120</td>\n",
       "      <td>38.903060</td>\n",
       "      <td>3.648378</td>\n",
       "      <td>[]</td>\n",
       "      <td>0</td>\n",
       "    </tr>\n",
       "    <tr>\n",
       "      <th>2603</th>\n",
       "      <td>2603</td>\n",
       "      <td>33.080235</td>\n",
       "      <td>45.477915</td>\n",
       "      <td>9.215846</td>\n",
       "      <td>4.607923</td>\n",
       "      <td>1.691756</td>\n",
       "      <td>[]</td>\n",
       "      <td>0</td>\n",
       "    </tr>\n",
       "    <tr>\n",
       "      <th>2680</th>\n",
       "      <td>2680</td>\n",
       "      <td>29.990536</td>\n",
       "      <td>46.595376</td>\n",
       "      <td>32.742513</td>\n",
       "      <td>16.371256</td>\n",
       "      <td>3.948059</td>\n",
       "      <td>[]</td>\n",
       "      <td>0</td>\n",
       "    </tr>\n",
       "    <tr>\n",
       "      <th>3165</th>\n",
       "      <td>3165</td>\n",
       "      <td>29.822080</td>\n",
       "      <td>44.463214</td>\n",
       "      <td>53.313655</td>\n",
       "      <td>26.656828</td>\n",
       "      <td>0.021064</td>\n",
       "      <td>[]</td>\n",
       "      <td>0</td>\n",
       "    </tr>\n",
       "    <tr>\n",
       "      <th>3327</th>\n",
       "      <td>3327</td>\n",
       "      <td>31.197729</td>\n",
       "      <td>43.710671</td>\n",
       "      <td>63.108854</td>\n",
       "      <td>31.554427</td>\n",
       "      <td>1.991953</td>\n",
       "      <td>[]</td>\n",
       "      <td>0</td>\n",
       "    </tr>\n",
       "    <tr>\n",
       "      <th>3519</th>\n",
       "      <td>3519</td>\n",
       "      <td>30.978290</td>\n",
       "      <td>44.089483</td>\n",
       "      <td>22.673898</td>\n",
       "      <td>11.336949</td>\n",
       "      <td>0.701780</td>\n",
       "      <td>[]</td>\n",
       "      <td>0</td>\n",
       "    </tr>\n",
       "    <tr>\n",
       "      <th>4442</th>\n",
       "      <td>4442</td>\n",
       "      <td>29.804059</td>\n",
       "      <td>47.386636</td>\n",
       "      <td>46.150710</td>\n",
       "      <td>23.075355</td>\n",
       "      <td>2.949007</td>\n",
       "      <td>[]</td>\n",
       "      <td>0</td>\n",
       "    </tr>\n",
       "    <tr>\n",
       "      <th>4890</th>\n",
       "      <td>4890</td>\n",
       "      <td>28.993901</td>\n",
       "      <td>46.859980</td>\n",
       "      <td>99.973637</td>\n",
       "      <td>49.986819</td>\n",
       "      <td>2.108192</td>\n",
       "      <td>[]</td>\n",
       "      <td>0</td>\n",
       "    </tr>\n",
       "    <tr>\n",
       "      <th>4999</th>\n",
       "      <td>4999</td>\n",
       "      <td>29.826661</td>\n",
       "      <td>44.645576</td>\n",
       "      <td>39.212028</td>\n",
       "      <td>19.606014</td>\n",
       "      <td>2.503547</td>\n",
       "      <td>[]</td>\n",
       "      <td>0</td>\n",
       "    </tr>\n",
       "  </tbody>\n",
       "</table>\n",
       "</div>"
      ],
      "text/plain": [
       "      CUSTOMER_ID  x_customer_id  y_customer_id  mean_amount  std_amount  \\\n",
       "253           253      28.754450      45.670363     6.990257    3.495128   \n",
       "463           463      28.477971      44.462536    93.362004   46.681002   \n",
       "753           753      30.796569      42.946659    34.939393   17.469696   \n",
       "2317         2317      32.724566      47.369004    77.806120   38.903060   \n",
       "2603         2603      33.080235      45.477915     9.215846    4.607923   \n",
       "2680         2680      29.990536      46.595376    32.742513   16.371256   \n",
       "3165         3165      29.822080      44.463214    53.313655   26.656828   \n",
       "3327         3327      31.197729      43.710671    63.108854   31.554427   \n",
       "3519         3519      30.978290      44.089483    22.673898   11.336949   \n",
       "4442         4442      29.804059      47.386636    46.150710   23.075355   \n",
       "4890         4890      28.993901      46.859980    99.973637   49.986819   \n",
       "4999         4999      29.826661      44.645576    39.212028   19.606014   \n",
       "\n",
       "      mean_nb_tx_per_day available_terminals  nb_terminals  \n",
       "253             1.646462                  []             0  \n",
       "463             0.725071                  []             0  \n",
       "753             0.280694                  []             0  \n",
       "2317            3.648378                  []             0  \n",
       "2603            1.691756                  []             0  \n",
       "2680            3.948059                  []             0  \n",
       "3165            0.021064                  []             0  \n",
       "3327            1.991953                  []             0  \n",
       "3519            0.701780                  []             0  \n",
       "4442            2.949007                  []             0  \n",
       "4890            2.108192                  []             0  \n",
       "4999            2.503547                  []             0  "
      ]
     },
     "execution_count": 6,
     "metadata": {},
     "output_type": "execute_result"
    }
   ],
   "source": [
    "# voir a quoi correspond \n",
    "customer_profiles_df[(customer_profiles_df.nb_terminals == 0)]"
   ]
  },
  {
   "cell_type": "code",
   "execution_count": 7,
   "id": "a217ae61",
   "metadata": {},
   "outputs": [
    {
     "data": {
      "text/html": [
       "<div>\n",
       "<style scoped>\n",
       "    .dataframe tbody tr th:only-of-type {\n",
       "        vertical-align: middle;\n",
       "    }\n",
       "\n",
       "    .dataframe tbody tr th {\n",
       "        vertical-align: top;\n",
       "    }\n",
       "\n",
       "    .dataframe thead th {\n",
       "        text-align: right;\n",
       "    }\n",
       "</style>\n",
       "<table border=\"1\" class=\"dataframe\">\n",
       "  <thead>\n",
       "    <tr style=\"text-align: right;\">\n",
       "      <th></th>\n",
       "      <th>TRANSACTION_ID</th>\n",
       "      <th>TX_DATETIME</th>\n",
       "      <th>CUSTOMER_ID</th>\n",
       "      <th>TERMINAL_ID</th>\n",
       "      <th>TX_AMOUNT</th>\n",
       "      <th>TX_TIME_SECONDS</th>\n",
       "      <th>TX_TIME_DAYS</th>\n",
       "      <th>TX_FRAUD</th>\n",
       "      <th>TX_FRAUD_SCENARIO</th>\n",
       "    </tr>\n",
       "  </thead>\n",
       "  <tbody>\n",
       "  </tbody>\n",
       "</table>\n",
       "</div>"
      ],
      "text/plain": [
       "Empty DataFrame\n",
       "Columns: [TRANSACTION_ID, TX_DATETIME, CUSTOMER_ID, TERMINAL_ID, TX_AMOUNT, TX_TIME_SECONDS, TX_TIME_DAYS, TX_FRAUD, TX_FRAUD_SCENARIO]\n",
       "Index: []"
      ]
     },
     "execution_count": 7,
     "metadata": {},
     "output_type": "execute_result"
    }
   ],
   "source": [
    "transactions_df[(transactions_df.CUSTOMER_ID == 253)]"
   ]
  },
  {
   "cell_type": "code",
   "execution_count": 8,
   "id": "39be2298",
   "metadata": {},
   "outputs": [
    {
     "data": {
      "text/html": [
       "<div>\n",
       "<style scoped>\n",
       "    .dataframe tbody tr th:only-of-type {\n",
       "        vertical-align: middle;\n",
       "    }\n",
       "\n",
       "    .dataframe tbody tr th {\n",
       "        vertical-align: top;\n",
       "    }\n",
       "\n",
       "    .dataframe thead th {\n",
       "        text-align: right;\n",
       "    }\n",
       "</style>\n",
       "<table border=\"1\" class=\"dataframe\">\n",
       "  <thead>\n",
       "    <tr style=\"text-align: right;\">\n",
       "      <th></th>\n",
       "      <th>CUSTOMER_ID</th>\n",
       "      <th>x_customer_id</th>\n",
       "      <th>y_customer_id</th>\n",
       "      <th>mean_amount</th>\n",
       "      <th>std_amount</th>\n",
       "      <th>mean_nb_tx_per_day</th>\n",
       "      <th>nb_terminals</th>\n",
       "    </tr>\n",
       "  </thead>\n",
       "  <tbody>\n",
       "    <tr>\n",
       "      <th>count</th>\n",
       "      <td>5000.000000</td>\n",
       "      <td>5000.000000</td>\n",
       "      <td>5000.000000</td>\n",
       "      <td>5000.000000</td>\n",
       "      <td>5000.000000</td>\n",
       "      <td>5000.000000</td>\n",
       "      <td>5000.00000</td>\n",
       "    </tr>\n",
       "    <tr>\n",
       "      <th>mean</th>\n",
       "      <td>2499.500000</td>\n",
       "      <td>49.626386</td>\n",
       "      <td>50.013166</td>\n",
       "      <td>51.797573</td>\n",
       "      <td>25.898787</td>\n",
       "      <td>1.977582</td>\n",
       "      <td>7.51520</td>\n",
       "    </tr>\n",
       "    <tr>\n",
       "      <th>std</th>\n",
       "      <td>1443.520003</td>\n",
       "      <td>28.991158</td>\n",
       "      <td>29.081224</td>\n",
       "      <td>27.779156</td>\n",
       "      <td>13.889578</td>\n",
       "      <td>1.154736</td>\n",
       "      <td>3.00406</td>\n",
       "    </tr>\n",
       "    <tr>\n",
       "      <th>min</th>\n",
       "      <td>0.000000</td>\n",
       "      <td>0.007245</td>\n",
       "      <td>0.020695</td>\n",
       "      <td>5.032382</td>\n",
       "      <td>2.516191</td>\n",
       "      <td>0.000295</td>\n",
       "      <td>0.00000</td>\n",
       "    </tr>\n",
       "    <tr>\n",
       "      <th>25%</th>\n",
       "      <td>1249.750000</td>\n",
       "      <td>24.417225</td>\n",
       "      <td>24.808494</td>\n",
       "      <td>27.885592</td>\n",
       "      <td>13.942796</td>\n",
       "      <td>0.977653</td>\n",
       "      <td>5.00000</td>\n",
       "    </tr>\n",
       "    <tr>\n",
       "      <th>50%</th>\n",
       "      <td>2499.500000</td>\n",
       "      <td>49.462662</td>\n",
       "      <td>50.073791</td>\n",
       "      <td>51.681424</td>\n",
       "      <td>25.840712</td>\n",
       "      <td>1.952286</td>\n",
       "      <td>7.00000</td>\n",
       "    </tr>\n",
       "    <tr>\n",
       "      <th>75%</th>\n",
       "      <td>3749.250000</td>\n",
       "      <td>74.615700</td>\n",
       "      <td>75.910068</td>\n",
       "      <td>75.633210</td>\n",
       "      <td>37.816605</td>\n",
       "      <td>2.996354</td>\n",
       "      <td>9.00000</td>\n",
       "    </tr>\n",
       "    <tr>\n",
       "      <th>max</th>\n",
       "      <td>4999.000000</td>\n",
       "      <td>99.996202</td>\n",
       "      <td>99.996402</td>\n",
       "      <td>99.981815</td>\n",
       "      <td>49.990907</td>\n",
       "      <td>3.999912</td>\n",
       "      <td>19.00000</td>\n",
       "    </tr>\n",
       "  </tbody>\n",
       "</table>\n",
       "</div>"
      ],
      "text/plain": [
       "       CUSTOMER_ID  x_customer_id  y_customer_id  mean_amount   std_amount  \\\n",
       "count  5000.000000    5000.000000    5000.000000  5000.000000  5000.000000   \n",
       "mean   2499.500000      49.626386      50.013166    51.797573    25.898787   \n",
       "std    1443.520003      28.991158      29.081224    27.779156    13.889578   \n",
       "min       0.000000       0.007245       0.020695     5.032382     2.516191   \n",
       "25%    1249.750000      24.417225      24.808494    27.885592    13.942796   \n",
       "50%    2499.500000      49.462662      50.073791    51.681424    25.840712   \n",
       "75%    3749.250000      74.615700      75.910068    75.633210    37.816605   \n",
       "max    4999.000000      99.996202      99.996402    99.981815    49.990907   \n",
       "\n",
       "       mean_nb_tx_per_day  nb_terminals  \n",
       "count         5000.000000    5000.00000  \n",
       "mean             1.977582       7.51520  \n",
       "std              1.154736       3.00406  \n",
       "min              0.000295       0.00000  \n",
       "25%              0.977653       5.00000  \n",
       "50%              1.952286       7.00000  \n",
       "75%              2.996354       9.00000  \n",
       "max              3.999912      19.00000  "
      ]
     },
     "execution_count": 8,
     "metadata": {},
     "output_type": "execute_result"
    }
   ],
   "source": [
    "customer_profiles_df.describe()"
   ]
  },
  {
   "cell_type": "code",
   "execution_count": 9,
   "id": "3c8d6370",
   "metadata": {
    "scrolled": false
   },
   "outputs": [
    {
     "data": {
      "image/png": "[encoded data removed]",
      "text/plain": [
       "<Figure size 1152x864 with 4 Axes>"
      ]
     },
     "metadata": {
      "needs_background": "light"
     },
     "output_type": "display_data"
    }
   ],
   "source": [
    "fig, ax = plt.subplots(2,2,figsize=(16,12))\n",
    "\n",
    "ax[0][0].boxplot(customer_profiles_df[\"nb_terminals\"])\n",
    "ax[1][0].boxplot(customer_profiles_df[\"mean_amount\"])\n",
    "ax[0][1].boxplot(customer_profiles_df[\"mean_nb_tx_per_day\"])\n",
    "ax[1][1].boxplot(customer_profiles_df[\"std_amount\"])\n",
    "\n",
    "ax[0][0].title.set_text(\"nb_terminals\")\n",
    "ax[1][0].title.set_text(\"mean_amount\")\n",
    "ax[0][1].title.set_text(\"mean_nb_tx_per_day\")\n",
    "ax[1][1].title.set_text(\"std_amount\")\n",
    "\n",
    "\n",
    "plt.show()\n"
   ]
  },
  {
   "cell_type": "markdown",
   "id": "2be80fd5",
   "metadata": {},
   "source": [
    "2 - Transaction list"
   ]
  },
  {
   "cell_type": "markdown",
   "id": "d1a0aa8b",
   "metadata": {},
   "source": [
    "| Column | Type | Description |\n",
    "| --- | --- | --- |\n",
    "| TRANSACTION_ID  | int64 | The transaction ID|\n",
    "| TX_DATETIME  | object | The timestamp of the transaction|\n",
    "| CUSTOMER_ID  | int64 | Customer ID, linked to the customer dataset|\n",
    "| TX_FRAUD  | int64 | Boolean condition, marking the transaction as fraudulent or not|\n",
    "| TX_FRAUD_SCENARIO | int64 | Referencing the fraud scenario, 0 indicate a genuine transaction|"
   ]
  },
  {
   "cell_type": "code",
   "execution_count": 10,
   "id": "054640f4",
   "metadata": {
    "scrolled": false
   },
   "outputs": [
    {
     "data": {
      "text/html": [
       "<div>\n",
       "<style scoped>\n",
       "    .dataframe tbody tr th:only-of-type {\n",
       "        vertical-align: middle;\n",
       "    }\n",
       "\n",
       "    .dataframe tbody tr th {\n",
       "        vertical-align: top;\n",
       "    }\n",
       "\n",
       "    .dataframe thead th {\n",
       "        text-align: right;\n",
       "    }\n",
       "</style>\n",
       "<table border=\"1\" class=\"dataframe\">\n",
       "  <thead>\n",
       "    <tr style=\"text-align: right;\">\n",
       "      <th></th>\n",
       "      <th>TRANSACTION_ID</th>\n",
       "      <th>TX_DATETIME</th>\n",
       "      <th>CUSTOMER_ID</th>\n",
       "      <th>TERMINAL_ID</th>\n",
       "      <th>TX_AMOUNT</th>\n",
       "      <th>TX_TIME_SECONDS</th>\n",
       "      <th>TX_TIME_DAYS</th>\n",
       "      <th>TX_FRAUD</th>\n",
       "      <th>TX_FRAUD_SCENARIO</th>\n",
       "    </tr>\n",
       "  </thead>\n",
       "  <tbody>\n",
       "    <tr>\n",
       "      <th>0</th>\n",
       "      <td>0</td>\n",
       "      <td>2018-04-01 00:00:31</td>\n",
       "      <td>596</td>\n",
       "      <td>298</td>\n",
       "      <td>57.16</td>\n",
       "      <td>31</td>\n",
       "      <td>0</td>\n",
       "      <td>0</td>\n",
       "      <td>0</td>\n",
       "    </tr>\n",
       "    <tr>\n",
       "      <th>1</th>\n",
       "      <td>1</td>\n",
       "      <td>2018-04-01 00:02:10</td>\n",
       "      <td>4961</td>\n",
       "      <td>441</td>\n",
       "      <td>81.51</td>\n",
       "      <td>130</td>\n",
       "      <td>0</td>\n",
       "      <td>0</td>\n",
       "      <td>0</td>\n",
       "    </tr>\n",
       "    <tr>\n",
       "      <th>2</th>\n",
       "      <td>2</td>\n",
       "      <td>2018-04-01 00:07:56</td>\n",
       "      <td>2</td>\n",
       "      <td>316</td>\n",
       "      <td>146.00</td>\n",
       "      <td>476</td>\n",
       "      <td>0</td>\n",
       "      <td>0</td>\n",
       "      <td>0</td>\n",
       "    </tr>\n",
       "    <tr>\n",
       "      <th>3</th>\n",
       "      <td>3</td>\n",
       "      <td>2018-04-01 00:09:29</td>\n",
       "      <td>4128</td>\n",
       "      <td>370</td>\n",
       "      <td>64.49</td>\n",
       "      <td>569</td>\n",
       "      <td>0</td>\n",
       "      <td>0</td>\n",
       "      <td>0</td>\n",
       "    </tr>\n",
       "    <tr>\n",
       "      <th>4</th>\n",
       "      <td>4</td>\n",
       "      <td>2018-04-01 00:10:34</td>\n",
       "      <td>927</td>\n",
       "      <td>415</td>\n",
       "      <td>50.99</td>\n",
       "      <td>634</td>\n",
       "      <td>0</td>\n",
       "      <td>0</td>\n",
       "      <td>0</td>\n",
       "    </tr>\n",
       "  </tbody>\n",
       "</table>\n",
       "</div>"
      ],
      "text/plain": [
       "   TRANSACTION_ID          TX_DATETIME  CUSTOMER_ID  TERMINAL_ID  TX_AMOUNT  \\\n",
       "0               0  2018-04-01 00:00:31          596          298      57.16   \n",
       "1               1  2018-04-01 00:02:10         4961          441      81.51   \n",
       "2               2  2018-04-01 00:07:56            2          316     146.00   \n",
       "3               3  2018-04-01 00:09:29         4128          370      64.49   \n",
       "4               4  2018-04-01 00:10:34          927          415      50.99   \n",
       "\n",
       "   TX_TIME_SECONDS  TX_TIME_DAYS  TX_FRAUD  TX_FRAUD_SCENARIO  \n",
       "0               31             0         0                  0  \n",
       "1              130             0         0                  0  \n",
       "2              476             0         0                  0  \n",
       "3              569             0         0                  0  \n",
       "4              634             0         0                  0  "
      ]
     },
     "execution_count": 10,
     "metadata": {},
     "output_type": "execute_result"
    }
   ],
   "source": [
    "transactions_df.head()"
   ]
  },
  {
   "cell_type": "code",
   "execution_count": 11,
   "id": "1268a8b6",
   "metadata": {},
   "outputs": [
    {
     "data": {
      "text/plain": [
       "(1750048, 9)"
      ]
     },
     "execution_count": 11,
     "metadata": {},
     "output_type": "execute_result"
    }
   ],
   "source": [
    "transactions_df.shape"
   ]
  },
  {
   "cell_type": "code",
   "execution_count": 13,
   "id": "e9451bae",
   "metadata": {
    "scrolled": false
   },
   "outputs": [
    {
     "data": {
      "image/png": "[encoded data removed]",
      "text/plain": [
       "<Figure size 864x576 with 1 Axes>"
      ]
     },
     "metadata": {
      "needs_background": "light"
     },
     "output_type": "display_data"
    }
   ],
   "source": [
    "transactions_df.boxplot(\"TX_AMOUNT\", by = \"TX_FRAUD_SCENARIO\",showfliers=False, figsize=(12,8));"
   ]
  },
  {
   "cell_type": "code",
   "execution_count": 49,
   "id": "8e31942d",
   "metadata": {},
   "outputs": [
    {
     "data": {
      "text/html": [
       "<div>\n",
       "<style scoped>\n",
       "    .dataframe tbody tr th:only-of-type {\n",
       "        vertical-align: middle;\n",
       "    }\n",
       "\n",
       "    .dataframe tbody tr th {\n",
       "        vertical-align: top;\n",
       "    }\n",
       "\n",
       "    .dataframe thead th {\n",
       "        text-align: right;\n",
       "    }\n",
       "</style>\n",
       "<table border=\"1\" class=\"dataframe\">\n",
       "  <thead>\n",
       "    <tr style=\"text-align: right;\">\n",
       "      <th></th>\n",
       "      <th>TRANSACTION_ID</th>\n",
       "      <th>TX_DATETIME</th>\n",
       "      <th>CUSTOMER_ID</th>\n",
       "      <th>TERMINAL_ID</th>\n",
       "      <th>TX_AMOUNT</th>\n",
       "      <th>TX_TIME_SECONDS</th>\n",
       "      <th>TX_TIME_DAYS</th>\n",
       "      <th>TX_FRAUD</th>\n",
       "      <th>TX_FRAUD_SCENARIO</th>\n",
       "    </tr>\n",
       "  </thead>\n",
       "  <tbody>\n",
       "    <tr>\n",
       "      <th>0</th>\n",
       "      <td>0</td>\n",
       "      <td>2018-04-01 00:00:31</td>\n",
       "      <td>596</td>\n",
       "      <td>298</td>\n",
       "      <td>57.16</td>\n",
       "      <td>31</td>\n",
       "      <td>0</td>\n",
       "      <td>0</td>\n",
       "      <td>0</td>\n",
       "    </tr>\n",
       "    <tr>\n",
       "      <th>1</th>\n",
       "      <td>1</td>\n",
       "      <td>2018-04-01 00:02:10</td>\n",
       "      <td>4961</td>\n",
       "      <td>441</td>\n",
       "      <td>81.51</td>\n",
       "      <td>130</td>\n",
       "      <td>0</td>\n",
       "      <td>0</td>\n",
       "      <td>0</td>\n",
       "    </tr>\n",
       "    <tr>\n",
       "      <th>2</th>\n",
       "      <td>2</td>\n",
       "      <td>2018-04-01 00:07:56</td>\n",
       "      <td>2</td>\n",
       "      <td>316</td>\n",
       "      <td>146.00</td>\n",
       "      <td>476</td>\n",
       "      <td>0</td>\n",
       "      <td>0</td>\n",
       "      <td>0</td>\n",
       "    </tr>\n",
       "    <tr>\n",
       "      <th>3</th>\n",
       "      <td>3</td>\n",
       "      <td>2018-04-01 00:09:29</td>\n",
       "      <td>4128</td>\n",
       "      <td>370</td>\n",
       "      <td>64.49</td>\n",
       "      <td>569</td>\n",
       "      <td>0</td>\n",
       "      <td>0</td>\n",
       "      <td>0</td>\n",
       "    </tr>\n",
       "    <tr>\n",
       "      <th>4</th>\n",
       "      <td>4</td>\n",
       "      <td>2018-04-01 00:10:34</td>\n",
       "      <td>927</td>\n",
       "      <td>415</td>\n",
       "      <td>50.99</td>\n",
       "      <td>634</td>\n",
       "      <td>0</td>\n",
       "      <td>0</td>\n",
       "      <td>0</td>\n",
       "    </tr>\n",
       "  </tbody>\n",
       "</table>\n",
       "</div>"
      ],
      "text/plain": [
       "   TRANSACTION_ID          TX_DATETIME  CUSTOMER_ID  TERMINAL_ID  TX_AMOUNT  \\\n",
       "0               0  2018-04-01 00:00:31          596          298      57.16   \n",
       "1               1  2018-04-01 00:02:10         4961          441      81.51   \n",
       "2               2  2018-04-01 00:07:56            2          316     146.00   \n",
       "3               3  2018-04-01 00:09:29         4128          370      64.49   \n",
       "4               4  2018-04-01 00:10:34          927          415      50.99   \n",
       "\n",
       "   TX_TIME_SECONDS  TX_TIME_DAYS  TX_FRAUD  TX_FRAUD_SCENARIO  \n",
       "0               31             0         0                  0  \n",
       "1              130             0         0                  0  \n",
       "2              476             0         0                  0  \n",
       "3              569             0         0                  0  \n",
       "4              634             0         0                  0  "
      ]
     },
     "execution_count": 49,
     "metadata": {},
     "output_type": "execute_result"
    }
   ],
   "source": [
    "sce_0.head()"
   ]
  },
  {
   "cell_type": "code",
   "execution_count": 150,
   "id": "2432d62c",
   "metadata": {},
   "outputs": [],
   "source": [
    "genuine = transactions_df[transactions_df.TX_FRAUD_SCENARIO == 0]\n",
    "genuine = genuine.groupby(by = \"TX_TIME_DAYS\").sum()\n",
    "\n",
    "fraud = transactions_df[(transactions_df.TX_FRAUD_SCENARIO != 0)]\n",
    "                       \n",
    "fraud = fraud.groupby(by = \"TX_TIME_DAYS\").sum()\n",
    "\n",
    "genuine_max = genuine.index.max() +1"
   ]
  },
  {
   "cell_type": "code",
   "execution_count": 152,
   "id": "55df2fe0",
   "metadata": {},
   "outputs": [],
   "source": [
    "days = []\n",
    "for i in range (0, genuine_max):\n",
    "    days.append(i)\n",
    "    \n",
    "genuine_data = []\n",
    "for i in genuine.TX_AMOUNT:\n",
    "    genuine_data.append(i)\n",
    "    \n",
    "fraud_data = []\n",
    "for i in fraud.TX_AMOUNT:\n",
    "    fraud_data.append(i)\n"
   ]
  },
  {
   "cell_type": "code",
   "execution_count": 154,
   "id": "40222e5d",
   "metadata": {},
   "outputs": [
    {
     "data": {
      "image/png": "[encoded data removed]",
      "text/plain": [
       "<Figure size 432x288 with 1 Axes>"
      ]
     },
     "metadata": {
      "needs_background": "light"
     },
     "output_type": "display_data"
    }
   ],
   "source": [
    "f_types = {\n",
    "    \"Amount of genuine transaction\": list(genuine_data),\n",
    "    \"Amount of fraud\": list(fraud_data),\n",
    "}\n",
    "\n",
    "fig, ax = plt.subplots()\n",
    "ax.stackplot(days, f_types.values(),\n",
    "             labels=f_types.keys())\n",
    "ax.legend(loc='upper left')\n",
    "ax.set_title(\"Daily amount\")\n",
    "ax.set_xlabel(\"Day\")\n",
    "ax.set_ylabel(\"Euros\")\n",
    "\n",
    "plt.show()"
   ]
  },
  {
   "cell_type": "markdown",
   "id": "94cdee9c",
   "metadata": {},
   "source": [
    "3 - Terminal profile"
   ]
  },
  {
   "cell_type": "markdown",
   "id": "8beaedaf",
   "metadata": {},
   "source": [
    "| Column | Type | Description |\n",
    "| --- | --- | --- |\n",
    "| TERMINAL_ID | int64 | The terminal ID|\n",
    "| (x_terminal_id,y_terminal_id) | float64 | A pair of real coordinates (x_terminal_id,y_terminal_id) in a 100 * 100 grid, that defines the geographical location of the terminal|\n",
    "\n",
    "The generate_terminal_profiles_table function provides an implementation for generating a table of terminal profiles. It takes as input the number of terminals for which to generate a profile and a random state for reproducibility. It returns a DataFrame containing the properties for each terminal."
   ]
  },
  {
   "cell_type": "code",
   "execution_count": 15,
   "id": "097ba33c",
   "metadata": {
    "scrolled": true
   },
   "outputs": [
    {
     "data": {
      "text/html": [
       "<div>\n",
       "<style scoped>\n",
       "    .dataframe tbody tr th:only-of-type {\n",
       "        vertical-align: middle;\n",
       "    }\n",
       "\n",
       "    .dataframe tbody tr th {\n",
       "        vertical-align: top;\n",
       "    }\n",
       "\n",
       "    .dataframe thead th {\n",
       "        text-align: right;\n",
       "    }\n",
       "</style>\n",
       "<table border=\"1\" class=\"dataframe\">\n",
       "  <thead>\n",
       "    <tr style=\"text-align: right;\">\n",
       "      <th></th>\n",
       "      <th>TERMINAL_ID</th>\n",
       "      <th>x_terminal_id</th>\n",
       "      <th>y_terminal_id</th>\n",
       "    </tr>\n",
       "  </thead>\n",
       "  <tbody>\n",
       "    <tr>\n",
       "      <th>0</th>\n",
       "      <td>0</td>\n",
       "      <td>41.702200</td>\n",
       "      <td>72.032449</td>\n",
       "    </tr>\n",
       "    <tr>\n",
       "      <th>1</th>\n",
       "      <td>1</td>\n",
       "      <td>0.011437</td>\n",
       "      <td>30.233257</td>\n",
       "    </tr>\n",
       "    <tr>\n",
       "      <th>2</th>\n",
       "      <td>2</td>\n",
       "      <td>14.675589</td>\n",
       "      <td>9.233859</td>\n",
       "    </tr>\n",
       "    <tr>\n",
       "      <th>3</th>\n",
       "      <td>3</td>\n",
       "      <td>18.626021</td>\n",
       "      <td>34.556073</td>\n",
       "    </tr>\n",
       "    <tr>\n",
       "      <th>4</th>\n",
       "      <td>4</td>\n",
       "      <td>39.676747</td>\n",
       "      <td>53.881673</td>\n",
       "    </tr>\n",
       "  </tbody>\n",
       "</table>\n",
       "</div>"
      ],
      "text/plain": [
       "   TERMINAL_ID  x_terminal_id  y_terminal_id\n",
       "0            0      41.702200      72.032449\n",
       "1            1       0.011437      30.233257\n",
       "2            2      14.675589       9.233859\n",
       "3            3      18.626021      34.556073\n",
       "4            4      39.676747      53.881673"
      ]
     },
     "execution_count": 15,
     "metadata": {},
     "output_type": "execute_result"
    }
   ],
   "source": [
    "terminal_profiles_df.head()"
   ]
  },
  {
   "cell_type": "code",
   "execution_count": 16,
   "id": "ca20eba7",
   "metadata": {},
   "outputs": [
    {
     "data": {
      "text/plain": [
       "(1000, 3)"
      ]
     },
     "execution_count": 16,
     "metadata": {},
     "output_type": "execute_result"
    }
   ],
   "source": [
    "terminal_profiles_df.shape"
   ]
  },
  {
   "cell_type": "code",
   "execution_count": null,
   "id": "fc299873",
   "metadata": {},
   "outputs": [],
   "source": []
  },
  {
   "cell_type": "code",
   "execution_count": 23,
   "id": "826b5553",
   "metadata": {},
   "outputs": [
    {
     "ename": "NameError",
     "evalue": "name 'tx_stats' is not defined",
     "output_type": "error",
     "traceback": [
      "\u001b[0;31m---------------------------------------------------------------------------\u001b[0m",
      "\u001b[0;31mNameError\u001b[0m                                 Traceback (most recent call last)",
      "\u001b[0;32m<ipython-input-23-14a6758ca99a>\u001b[0m in \u001b[0;36m<module>\u001b[0;34m\u001b[0m\n\u001b[1;32m      7\u001b[0m \u001b[0mfraud_and_transactions_stats_fig\u001b[0m\u001b[0;34m.\u001b[0m\u001b[0mset_size_inches\u001b[0m\u001b[0;34m(\u001b[0m\u001b[0;36m15\u001b[0m\u001b[0;34m,\u001b[0m \u001b[0;36m8\u001b[0m\u001b[0;34m)\u001b[0m\u001b[0;34m\u001b[0m\u001b[0;34m\u001b[0m\u001b[0m\n\u001b[1;32m      8\u001b[0m \u001b[0;34m\u001b[0m\u001b[0m\n\u001b[0;32m----> 9\u001b[0;31m \u001b[0msns_plot\u001b[0m \u001b[0;34m=\u001b[0m \u001b[0msns\u001b[0m\u001b[0;34m.\u001b[0m\u001b[0mlineplot\u001b[0m\u001b[0;34m(\u001b[0m\u001b[0mx\u001b[0m\u001b[0;34m=\u001b[0m\u001b[0;34m\"TX_TIME_DAYS\"\u001b[0m\u001b[0;34m,\u001b[0m \u001b[0my\u001b[0m\u001b[0;34m=\u001b[0m\u001b[0;34m\"value\"\u001b[0m\u001b[0;34m,\u001b[0m \u001b[0mdata\u001b[0m\u001b[0;34m=\u001b[0m\u001b[0mtx_stats\u001b[0m\u001b[0;34m,\u001b[0m \u001b[0mhue\u001b[0m\u001b[0;34m=\u001b[0m\u001b[0;34m\"stat_type\"\u001b[0m\u001b[0;34m,\u001b[0m \u001b[0mhue_order\u001b[0m\u001b[0;34m=\u001b[0m\u001b[0;34m[\u001b[0m\u001b[0;34m\"nb_tx_per_day\"\u001b[0m\u001b[0;34m,\u001b[0m\u001b[0;34m\"nb_fraud_per_day\"\u001b[0m\u001b[0;34m,\u001b[0m\u001b[0;34m\"nb_fraudcard_per_day\"\u001b[0m\u001b[0;34m]\u001b[0m\u001b[0;34m,\u001b[0m \u001b[0mlegend\u001b[0m\u001b[0;34m=\u001b[0m\u001b[0;32mFalse\u001b[0m\u001b[0;34m)\u001b[0m\u001b[0;34m\u001b[0m\u001b[0;34m\u001b[0m\u001b[0m\n\u001b[0m\u001b[1;32m     10\u001b[0m \u001b[0;34m\u001b[0m\u001b[0m\n\u001b[1;32m     11\u001b[0m \u001b[0msns_plot\u001b[0m\u001b[0;34m.\u001b[0m\u001b[0mset_title\u001b[0m\u001b[0;34m(\u001b[0m\u001b[0;34m'Total transactions, and number of fraudulent transactions \\n and number of frauded cards per day'\u001b[0m\u001b[0;34m,\u001b[0m \u001b[0mfontsize\u001b[0m\u001b[0;34m=\u001b[0m\u001b[0;36m20\u001b[0m\u001b[0;34m)\u001b[0m\u001b[0;34m\u001b[0m\u001b[0;34m\u001b[0m\u001b[0m\n",
      "\u001b[0;31mNameError\u001b[0m: name 'tx_stats' is not defined"
     ]
    },
    {
     "data": {
      "text/plain": [
       "<Figure size 1080x576 with 0 Axes>"
      ]
     },
     "metadata": {},
     "output_type": "display_data"
    }
   ],
   "source": [
    "#inspiration uniquement\n",
    "sns.set(style='darkgrid')\n",
    "sns.set(font_scale=1.4)\n",
    "\n",
    "fraud_and_transactions_stats_fig = plt.gcf()\n",
    "\n",
    "fraud_and_transactions_stats_fig.set_size_inches(15, 8)\n",
    "\n",
    "sns_plot = sns.lineplot(x=\"TX_TIME_DAYS\", y=\"value\", data=tx_stats, hue=\"stat_type\", hue_order=[\"nb_tx_per_day\",\"nb_fraud_per_day\",\"nb_fraudcard_per_day\"], legend=False)\n",
    "\n",
    "sns_plot.set_title('Total transactions, and number of fraudulent transactions \\n and number of frauded cards per day', fontsize=20)\n",
    "sns_plot.set(xlabel = \"Number of days since beginning of data generation\", ylabel=\"Number\")\n",
    "\n",
    "sns_plot.set_ylim([0,300])\n",
    "\n",
    "labels_legend = [\"# transactions per day (/50)\", \"# fraudulent txs per day\", \"# fraudulent cards per day\"]\n",
    "\n",
    "sns_plot.legend(loc='upper left', labels=labels_legend,bbox_to_anchor=(1.05, 1), fontsize=15)"
   ]
  },
  {
   "cell_type": "code",
   "execution_count": null,
   "id": "e05f1933",
   "metadata": {},
   "outputs": [],
   "source": []
  }
 ],
 "metadata": {
  "kernelspec": {
   "display_name": "Python 3",
   "language": "python",
   "name": "python3"
  },
  "language_info": {
   "codemirror_mode": {
    "name": "ipython",
    "version": 3
   },
   "file_extension": ".py",
   "mimetype": "text/x-python",
   "name": "python",
   "nbconvert_exporter": "python",
   "pygments_lexer": "ipython3",
   "version": "3.8.8"
  }
 },
 "nbformat": 4,
 "nbformat_minor": 5
}
